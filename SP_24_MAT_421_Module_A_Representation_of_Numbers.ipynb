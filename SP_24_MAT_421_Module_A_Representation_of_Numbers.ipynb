{
  "nbformat": 4,
  "nbformat_minor": 0,
  "metadata": {
    "colab": {
      "provenance": [],
      "toc_visible": true,
      "collapsed_sections": [
        "mIZ-5QShn4tM",
        "OZrptMxGuZ96"
      ],
      "authorship_tag": "ABX9TyOet7kQW0Po430ksjkIQHtC",
      "include_colab_link": true
    },
    "kernelspec": {
      "name": "python3",
      "display_name": "Python 3"
    },
    "language_info": {
      "name": "python"
    }
  },
  "cells": [
    {
      "cell_type": "markdown",
      "metadata": {
        "id": "view-in-github",
        "colab_type": "text"
      },
      "source": [
        "<a href=\"https://colab.research.google.com/github/JadonTelep/MAT-421/blob/main/SP_24_MAT_421_Module_A_Representation_of_Numbers.ipynb\" target=\"_parent\"><img src=\"https://colab.research.google.com/assets/colab-badge.svg\" alt=\"Open In Colab\"/></a>"
      ]
    },
    {
      "cell_type": "markdown",
      "source": [
        "# **Module A**"
      ],
      "metadata": {
        "id": "E2aBRZvJnjK4"
      }
    },
    {
      "cell_type": "markdown",
      "source": [
        "## Section 9.1 (Base-N and Binary)"
      ],
      "metadata": {
        "id": "mIZ-5QShn4tM"
      }
    },
    {
      "cell_type": "markdown",
      "source": [
        "The decimal system is a way of representing numbers that you are familiar with from elementary school. In the decimal system, a number is represented by a list of digits from 0 to 9, where each digit represents the coefficient for a power of 10.\n",
        "\n",
        "**EXAMPLE:** Show the decimal expansion for 154.3.\n",
        "\n",
        "$154.3 = 1 \\cdot 10^2 + 5 \\cdot 10^1 + 4 \\cdot 10^0 + 3 \\cdot 10^{-1} $!"
      ],
      "metadata": {
        "id": "Fn4UZKY5oOZK"
      }
    },
    {
      "cell_type": "code",
      "source": [
        "(1 * 10**2) + (5 * 10**1) + (4 * 10**0) + (3 * 10**-1)"
      ],
      "metadata": {
        "colab": {
          "base_uri": "https://localhost:8080/"
        },
        "id": "0OyLnZb6oyU8",
        "outputId": "95afc3e7-582b-4f63-f33d-c2a9b3fad892"
      },
      "execution_count": 10,
      "outputs": [
        {
          "output_type": "execute_result",
          "data": {
            "text/plain": [
              "154.3"
            ]
          },
          "metadata": {},
          "execution_count": 10
        }
      ]
    },
    {
      "cell_type": "markdown",
      "source": [
        "Since each digit is associated with a power of 10, the decimal system is also known as base10 because it is based on 10 digits (0 to 9).\n",
        "\n",
        "$154.3(base 10) = 154.3$\n",
        "\n",
        "A very important representation of numbers for computers is base 2 or binary numbers. In binary, the only available digits are 0 and 1, and each digit is the coefficient of a power of 2. Digits in a binary number are also known as a bit. Note that binary numbers are still numbers, and so addition and multiplication are defined on them exactly as you learned in grade school.\n",
        "\n",
        "**EXAMPLE:** Convert the number 37(base10) into binary.\n",
        "\n",
        "$37(base 10) = 32 + 4 + 1 = 1 \\cdot 2^5 + 0 \\cdot 2^4 + 0 \\cdot 2^3 + 1 \\cdot 2^2 + 0 \\cdot 2^1 + 1 \\cdot 10^0 = 100101(base 2)$"
      ],
      "metadata": {
        "id": "jrwnP8GHrA5M"
      }
    },
    {
      "cell_type": "code",
      "source": [
        "(1 * 2**5) + (0  * 2**4) + (0 * 2**3) + (1 * 2**2) + (0 * 2**1) + (1 * 2**0)"
      ],
      "metadata": {
        "colab": {
          "base_uri": "https://localhost:8080/"
        },
        "id": "LFjErFMfsLoZ",
        "outputId": "32d53dcb-023b-429b-886e-36248d9cbef2"
      },
      "execution_count": 11,
      "outputs": [
        {
          "output_type": "execute_result",
          "data": {
            "text/plain": [
              "37"
            ]
          },
          "metadata": {},
          "execution_count": 11
        }
      ]
    },
    {
      "cell_type": "markdown",
      "source": [
        "## Section 9.2 (Floating Point Numbers)"
      ],
      "metadata": {
        "id": "OZrptMxGuZ96"
      }
    },
    {
      "cell_type": "markdown",
      "source": [
        "The number of bits is usually fixed for any given computer. Using binary representation gives us an insufficient range and precision of numbers to do relevant engineering calculations. To achieve the range of values needed with the same number of bits, we use **floating** point numbers or **float** for short. Instead of utilizing each bit as the coefficient of a power of 2, floats allocate bits to three different parts:\n",
        "\n",
        "1.   the **sign indicator**, $s$\n",
        "2.   the **characteristic** or **exponent**, $e$\n",
        "3.   the **fraction**, $f$\n",
        "\n",
        "The sign indicator identifies whether the number is positive or negative, the charactersitic or exponent is the power of 2, and the fraction is the coefficient of the exponent. Almost all platforms map Python floats to the **IEEE754** double precision - 64 total bits. 1 bit is allocated to the sign indicator, 11 bits are allocated to the exponent, and 52 bits are allocated to the fraction.\n",
        "\n",
        "With 11 bits allocated to the exponent, this makes 2048 values that this number can take. Since we want to be able to make very precise numbers, we want some of these values to represent negative exponents (i.e., to allow numbers that are between 0 and 1 (base10)). To accomplish this, 1023 is subtracted from the exponent to normalize it. The value subtracted from the exponent is commonly referred to as the bias. The fraction is a number between 1 and 2. In binary, this means that the leading term will always be 1, and, therefore, it is a waste of bits to store it. To save space, the leading 1 is dropped.\n",
        "\n",
        "In Python, we could get the float information using the sys package as shown below:"
      ],
      "metadata": {
        "id": "hiicinikufnp"
      }
    },
    {
      "cell_type": "code",
      "source": [
        "import sys\n",
        "sys.float_info"
      ],
      "metadata": {
        "colab": {
          "base_uri": "https://localhost:8080/"
        },
        "id": "f1dVruagvpE1",
        "outputId": "1dd68ce2-6769-4bba-96f8-eee25389fbe6"
      },
      "execution_count": 12,
      "outputs": [
        {
          "output_type": "execute_result",
          "data": {
            "text/plain": [
              "sys.float_info(max=1.7976931348623157e+308, max_exp=1024, max_10_exp=308, min=2.2250738585072014e-308, min_exp=-1021, min_10_exp=-307, dig=15, mant_dig=53, epsilon=2.220446049250313e-16, radix=2, rounds=1)"
            ]
          },
          "metadata": {},
          "execution_count": 12
        }
      ]
    },
    {
      "cell_type": "markdown",
      "source": [
        "A float can then be represented as:\n",
        "\n",
        "$n = (-1)^{s}2^{e-1023}(1+f)$\n",
        "\n",
        "**EXAMPLE:** What is the number 1 10000000010 1000000000000000000000000000000000000000000000000000 (IEEE754) in base10?\n",
        "\n",
        "Find the float (n) using our formula for IEEE754\n",
        "\n",
        "$n = (-1)^{s}2^{e-1023}(1+f)$\n",
        "\n",
        "Determine $s$, $e$, and $f$\n",
        "\n",
        "$s = 1 = 1$\n",
        "\n",
        "$e = 10000000010 = 1 \\cdot 2^{10} + 0 \\cdot 2^9 + ... + 1 \\cdot 2^1 + 0 \\cdot 2^0= 1026$\n",
        "\n",
        "$f = 1000000000000000000000000000000000000000000000000000 = 1 \\cdot \\frac{1}{2^1} + 0 \\cdot \\frac{1}{2^2} + ... = 0.5$\n",
        "\n",
        "Plug in $s$, $e$, and $f$\n",
        "\n",
        "$n = (-1)^{1}2^{1026-1023}(1+0.5) = -12.0$\n",
        "\n",
        "\n"
      ],
      "metadata": {
        "id": "725gsr6Kvt3J"
      }
    },
    {
      "cell_type": "code",
      "source": [
        "((-1)**1) * (2**(1026 - 1023)) * (1 + 0.5)"
      ],
      "metadata": {
        "colab": {
          "base_uri": "https://localhost:8080/"
        },
        "id": "qMflQj_NzYeh",
        "outputId": "9b1c7b2e-96cc-4f9f-a54e-f7397ce1c3fb"
      },
      "execution_count": 16,
      "outputs": [
        {
          "output_type": "execute_result",
          "data": {
            "text/plain": [
              "-12.0"
            ]
          },
          "metadata": {},
          "execution_count": 16
        }
      ]
    },
    {
      "cell_type": "markdown",
      "source": [
        "**EXAMPLE:** What is 15.0 (base10) in IEEE754? What is the largest number smaller than 15.0? What is the smallest number larger than 15.0?\n",
        "\n",
        "To determine n, use the formula for IEEE754\n",
        "\n",
        "$n = (-1)^{s}2^{e-1023}(1+f)$\n",
        "\n",
        "Since the number is positive $s = 0$. To determine $e$, find the largest power of two that is smaller than 15.\n",
        "\n",
        "$15 < 8 = 2^3 = 2^{1026 - 1023}$\n",
        "\n",
        "$e = 1026 = 10000000010$\n",
        "\n",
        "Lastly solve for $f$\n",
        "\n",
        "$15 = (-1)^{0}2^{1026-1023}(1+f)$\n",
        "\n",
        "$15 = 8(1+f)$\n",
        "\n",
        "$f = (15 / 8) - 1 = 0.875 = 1 \\cdot \\frac{1}{2^1} +1 \\cdot \\frac{1}{2^2} + 1 \\cdot \\frac{1}{2^3} + 0 \\cdot \\frac{1}{2^4} + ... = 1110000000000000000000000000000000000000000000000000 $"
      ],
      "metadata": {
        "id": "_bHmh6Qu0eMb"
      }
    },
    {
      "cell_type": "code",
      "source": [
        "(1 * (1/2**1)) + (1 * (1/2**2)) + (1 * (1/2**3))"
      ],
      "metadata": {
        "colab": {
          "base_uri": "https://localhost:8080/"
        },
        "id": "rLvHU3le5omy",
        "outputId": "229bfb75-1635-4cff-8161-c67919a057ed"
      },
      "execution_count": 18,
      "outputs": [
        {
          "output_type": "execute_result",
          "data": {
            "text/plain": [
              "0.875"
            ]
          },
          "metadata": {},
          "execution_count": 18
        }
      ]
    },
    {
      "cell_type": "markdown",
      "source": [
        "All together\n",
        "\n",
        "15 (base10) = 0 10000000010 1110000000000000000000000000000000000000000000000000 (IEEE754)"
      ],
      "metadata": {
        "id": "LVGM1icg5o_8"
      }
    },
    {
      "cell_type": "code",
      "source": [
        "((-1)**0) * (2**(1026 - 1023)) * (1 + 0.875)"
      ],
      "metadata": {
        "colab": {
          "base_uri": "https://localhost:8080/"
        },
        "id": "zXXF72ns6Dkx",
        "outputId": "e8f31460-f200-4e29-b1d3-e3f756041221"
      },
      "execution_count": 19,
      "outputs": [
        {
          "output_type": "execute_result",
          "data": {
            "text/plain": [
              "15.0"
            ]
          },
          "metadata": {},
          "execution_count": 19
        }
      ]
    },
    {
      "cell_type": "markdown",
      "source": [
        "Adding or subtracting 1 to the end of $f$ will increment the float by 1. Thus the largest number smaller then 15.0 and the smallest number larger then 15 is\n",
        "\n",
        "0 10000000010 1101111111111111111111111111111111111111111111111111 (IEEE754) = 14.9999999999999982236431605997 (base10)\n",
        "\n",
        "and\n",
        "\n",
        "0 10000000010 1110000000000000000000000000000000000000000000000001 (IEEE754) = 15.0000000000000017763568394003 (base10)\n",
        "\n",
        "We call the distance from one number to the next the **gap**. Because the fraction is multiplied by $2^{e−1023}$, the gap grows as the number represented grows. The gap at a given number can be computed using the function *spacing* in *numpy*."
      ],
      "metadata": {
        "id": "e1oMEYMV6D3U"
      }
    },
    {
      "cell_type": "code",
      "source": [
        "import numpy as np"
      ],
      "metadata": {
        "id": "aBH_j43T66y5"
      },
      "execution_count": 20,
      "outputs": []
    },
    {
      "cell_type": "markdown",
      "source": [
        "EXAMPLE! Use the *spacing* function to determine the gap at 1e9. Verify that adding a number to 1e9 that is less than half the gap at 1e9 results in the same number."
      ],
      "metadata": {
        "id": "_7boi3Y_7AD5"
      }
    },
    {
      "cell_type": "code",
      "source": [
        "np.spacing(1e9)"
      ],
      "metadata": {
        "colab": {
          "base_uri": "https://localhost:8080/"
        },
        "id": "8gA8MzTH7AKL",
        "outputId": "d7f15a7d-3807-46c2-f85e-3aadc9ece287"
      },
      "execution_count": 21,
      "outputs": [
        {
          "output_type": "execute_result",
          "data": {
            "text/plain": [
              "1.1920928955078125e-07"
            ]
          },
          "metadata": {},
          "execution_count": 21
        }
      ]
    },
    {
      "cell_type": "code",
      "source": [
        "1e9 == (1e9 + np.spacing(1e9)/3)"
      ],
      "metadata": {
        "colab": {
          "base_uri": "https://localhost:8080/"
        },
        "id": "PnLt-A6r7AUN",
        "outputId": "65db05a6-e30b-401a-b53a-70c3cad29f61"
      },
      "execution_count": 22,
      "outputs": [
        {
          "output_type": "execute_result",
          "data": {
            "text/plain": [
              "True"
            ]
          },
          "metadata": {},
          "execution_count": 22
        }
      ]
    },
    {
      "cell_type": "markdown",
      "source": [
        "There are special cases for the value of a floating point number when e = 0 (i.e., e = 00000000000 (base2)) and when e = 2047 (i.e., e = 11111111111 (base2)), which are reserved. When the exponent is 0, the leading 1 in the fraction takes the value 0 instead. The result is a **subnormal** number. When the exponent is 2047 and f is nonzero, then the result is “Not a Number”, which means that the number is undefined."
      ],
      "metadata": {
        "id": "G4zdO5rR7QKa"
      }
    },
    {
      "cell_type": "markdown",
      "source": [
        "## Section 9.3 (Round-off Errors)"
      ],
      "metadata": {
        "id": "V3wHlGNa8h7Z"
      }
    },
    {
      "cell_type": "markdown",
      "source": [
        "The most common form round-off error is the representation error in the floating point numbers.A simple example will be to represent π. We know that π is an infinite number, but when we use it, we usually only use a finite digits. For example, if you only use 3.14159265, there will be an error between this approximation and the true infinite number. Another example will be 1/3, the true value will be 0.333333333…, no matter how many decimal digits we choose, there is an round-off error as well.\n",
        "\n",
        "Besides, when we rounding the numbers multiple times, the error will accumulate. For instance, if 4.845 is rounded to two decimal places, it is 4.85. Then if we round it again to one decimal place, it is 4.9, the total error will be 0.55. But if we only round one time to one decimal place, it is 4.8, which the error is 0.045.\n",
        "\n",
        "From the above example, the error between 4.845 and 4.8 should be 0.055. But if you calculate it in Python, you will see the 4.9 - 4.845 is not equal to 0.055."
      ],
      "metadata": {
        "id": "B8FE_nsW8nR5"
      }
    },
    {
      "cell_type": "markdown",
      "source": [
        "5.7 - 5.545 == 0.155"
      ],
      "metadata": {
        "id": "MGgor9k186hu"
      }
    },
    {
      "cell_type": "markdown",
      "source": [
        "Why does this happen? If we have a look of 4.9 - 4.845, we can see that, we actually get 0.055000000000000604 instead. This is because the floating point can not be represented by the exact number, it is just approximation, and when it is used in arithmetic, it is causing a small error."
      ],
      "metadata": {
        "id": "c-xmAjC_89Oy"
      }
    },
    {
      "cell_type": "code",
      "source": [
        "4.9 - 4.845"
      ],
      "metadata": {
        "colab": {
          "base_uri": "https://localhost:8080/"
        },
        "id": "LrrWEDe289zJ",
        "outputId": "10b8e52e-8222-49b7-8bcd-b858062ac343"
      },
      "execution_count": 38,
      "outputs": [
        {
          "output_type": "execute_result",
          "data": {
            "text/plain": [
              "0.15500000000000025"
            ]
          },
          "metadata": {},
          "execution_count": 38
        }
      ]
    },
    {
      "cell_type": "code",
      "source": [
        "4.8 - 4.845"
      ],
      "metadata": {
        "colab": {
          "base_uri": "https://localhost:8080/"
        },
        "id": "NMBdKBP19Anp",
        "outputId": "d8a490f2-3d9b-45ee-a40e-29eb602fd5f9"
      },
      "execution_count": 39,
      "outputs": [
        {
          "output_type": "execute_result",
          "data": {
            "text/plain": [
              "-0.04499999999999993"
            ]
          },
          "metadata": {},
          "execution_count": 39
        }
      ]
    },
    {
      "cell_type": "markdown",
      "source": [
        "Another example shows below that 0.1 + 0.2 + 0.3 is not equal 0.6, which has the same cause."
      ],
      "metadata": {
        "id": "K6P44w1p9CD9"
      }
    },
    {
      "cell_type": "code",
      "source": [
        "0.1 + 0.2 + 0.3 == 0.6"
      ],
      "metadata": {
        "colab": {
          "base_uri": "https://localhost:8080/"
        },
        "id": "Yx8FzJpb9DDd",
        "outputId": "246d8c67-4014-477a-8a2c-1c76f1c31222"
      },
      "execution_count": 40,
      "outputs": [
        {
          "output_type": "execute_result",
          "data": {
            "text/plain": [
              "True"
            ]
          },
          "metadata": {},
          "execution_count": 40
        }
      ]
    },
    {
      "cell_type": "markdown",
      "source": [
        "Though the numbers cannot be made closer to their intended exact values, the round function can be useful for post-rounding so that results with inexact values become comparable to one another:"
      ],
      "metadata": {
        "id": "q7bRkv2N9EHo"
      }
    },
    {
      "cell_type": "code",
      "source": [
        "round(0.1 + 0.2 + 0.3, 5)  == round(0.6, 5)"
      ],
      "metadata": {
        "colab": {
          "base_uri": "https://localhost:8080/"
        },
        "id": "Tnj9BKfV9FOz",
        "outputId": "c2e82e63-2bf4-4417-ef40-88585fb81134"
      },
      "execution_count": 27,
      "outputs": [
        {
          "output_type": "execute_result",
          "data": {
            "text/plain": [
              "True"
            ]
          },
          "metadata": {},
          "execution_count": 27
        }
      ]
    },
    {
      "cell_type": "markdown",
      "source": [
        "When we are doing a sequence of calculations on an initial input with round-off error due to inexact representation, the errors can be magnified or accumulated. The following is an example, that we have the number 1 add and subtract 1/3, which gives us the same number 1. But what if we adding 1/3 for many times and subtract the same number of times 1/3, do we still get the same number 1? No, you can see the example below, the more times you doing this, the more errors you are accumulating."
      ],
      "metadata": {
        "id": "32Y9FIw49JAr"
      }
    },
    {
      "cell_type": "code",
      "source": [
        "# If we only do once\n",
        "1 + 1/3 - 1/3"
      ],
      "metadata": {
        "colab": {
          "base_uri": "https://localhost:8080/"
        },
        "id": "hN6n78I69LFp",
        "outputId": "d33ab678-3502-455c-ac48-20a9e34b66c0"
      },
      "execution_count": 28,
      "outputs": [
        {
          "output_type": "execute_result",
          "data": {
            "text/plain": [
              "1.0"
            ]
          },
          "metadata": {},
          "execution_count": 28
        }
      ]
    },
    {
      "cell_type": "code",
      "source": [
        "def add_and_subtract(iterations):\n",
        "    result = 1\n",
        "\n",
        "    for i in range(iterations):\n",
        "        result += 1/3\n",
        "\n",
        "    for i in range(iterations):\n",
        "        result -= 1/3\n",
        "    return result"
      ],
      "metadata": {
        "id": "eAZOFQlf9NOh"
      },
      "execution_count": 29,
      "outputs": []
    },
    {
      "cell_type": "code",
      "source": [
        "# If we do this 100 times\n",
        "add_and_subtract(100)"
      ],
      "metadata": {
        "colab": {
          "base_uri": "https://localhost:8080/"
        },
        "id": "f0hgS04o9PM2",
        "outputId": "310c7c30-7127-4e0e-8156-c01ef885c12d"
      },
      "execution_count": 30,
      "outputs": [
        {
          "output_type": "execute_result",
          "data": {
            "text/plain": [
              "1.0000000000000002"
            ]
          },
          "metadata": {},
          "execution_count": 30
        }
      ]
    },
    {
      "cell_type": "code",
      "source": [
        "# If we do this 1000 times\n",
        "add_and_subtract(1000)"
      ],
      "metadata": {
        "colab": {
          "base_uri": "https://localhost:8080/"
        },
        "id": "06PBEVjC9Qix",
        "outputId": "0224d3ba-e9a5-403c-a681-7348e6989d68"
      },
      "execution_count": 31,
      "outputs": [
        {
          "output_type": "execute_result",
          "data": {
            "text/plain": [
              "1.0000000000000064"
            ]
          },
          "metadata": {},
          "execution_count": 31
        }
      ]
    },
    {
      "cell_type": "code",
      "source": [
        "# If we do this 10000 times\n",
        "add_and_subtract(10000)"
      ],
      "metadata": {
        "colab": {
          "base_uri": "https://localhost:8080/"
        },
        "id": "AuQQtxZt9U3q",
        "outputId": "19e894f3-374a-498c-c252-fc41bc11a719"
      },
      "execution_count": 32,
      "outputs": [
        {
          "output_type": "execute_result",
          "data": {
            "text/plain": [
              "1.0000000000001166"
            ]
          },
          "metadata": {},
          "execution_count": 32
        }
      ]
    }
  ]
}