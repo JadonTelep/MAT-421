{
  "nbformat": 4,
  "nbformat_minor": 0,
  "metadata": {
    "colab": {
      "provenance": [],
      "toc_visible": true,
      "authorship_tag": "ABX9TyN0RMBGb4OpS2zAh5rnlEW9",
      "include_colab_link": true
    },
    "kernelspec": {
      "name": "python3",
      "display_name": "Python 3"
    },
    "language_info": {
      "name": "python"
    }
  },
  "cells": [
    {
      "cell_type": "markdown",
      "metadata": {
        "id": "view-in-github",
        "colab_type": "text"
      },
      "source": [
        "<a href=\"https://colab.research.google.com/github/JadonTelep/MAT-421/blob/main/SP_24_MAT_421_Module_C_Root_Finding.ipynb\" target=\"_parent\"><img src=\"https://colab.research.google.com/assets/colab-badge.svg\" alt=\"Open In Colab\"/></a>"
      ]
    },
    {
      "cell_type": "markdown",
      "source": [
        "# **Module C - Root Finding**"
      ],
      "metadata": {
        "id": "GwG5HYWUeVba"
      }
    },
    {
      "cell_type": "markdown",
      "source": [
        "## Section 19.1 (Root Finding Problem Statement)"
      ],
      "metadata": {
        "id": "Q2DMZXczeXCL"
      }
    },
    {
      "cell_type": "markdown",
      "source": [
        "The **root** or **zero** of a function, $f(x)$, is an $x_r$ such that $f(x_r)=0$. For functions such as $f(x)=x^2-9$, the roots are clearly $3$ and $-3$. However, for other functions such as $f(x)=cos(x)-x$, determining an **analytic**, or exact, solution for the roots of functions can be difficult. For these cases, it is useful to generate numerical approximations of the roots of $f$ and understand the limitations in doing so.\n",
        "\n",
        "**EXAMPLE:** Using *fsolve* function from *scipy* to compute the root of $f(x)=cos(x)-x$ near $-2$. Verify that the solution is a root (or close enough)."
      ],
      "metadata": {
        "id": "gUzT8bXpfv80"
      }
    },
    {
      "cell_type": "code",
      "source": [
        "import numpy as np\n",
        "from scipy import optimize\n",
        "\n",
        "f = lambda x: np.cos(x) - x\n",
        "r = optimize.fsolve(f, -2)\n",
        "print(\"r =\", r)\n",
        "\n",
        "# Verify the solution is a root\n",
        "result = f(r)\n",
        "print(\"result=\", result)"
      ],
      "metadata": {
        "id": "5glbwmVtgnSO",
        "outputId": "19f96b7a-cb8a-477c-b368-4a111601c300",
        "colab": {
          "base_uri": "https://localhost:8080/"
        }
      },
      "execution_count": null,
      "outputs": [
        {
          "output_type": "stream",
          "name": "stdout",
          "text": [
            "r = [0.73908513]\n",
            "result= [0.]\n"
          ]
        }
      ]
    },
    {
      "cell_type": "markdown",
      "source": [
        "**EXAMPLE:** The function $f(x) = \\frac{1}{x}$ has no root. Use the fsolve function to try to compute the root of $f(x) = \\frac{1}{x}$. Turn on the *full_output* to see what's going on. Remember to check the documentation for details."
      ],
      "metadata": {
        "id": "lSLONNrliWoa"
      }
    },
    {
      "cell_type": "code",
      "source": [
        "f = lambda x: 1/x\n",
        "\n",
        "r, infodict, ier, mesg = optimize.fsolve(f, -2, full_output=True)\n",
        "print(\"r =\", r)\n",
        "\n",
        "result = f(r)\n",
        "print(\"result=\", result)\n",
        "\n",
        "print(mesg)"
      ],
      "metadata": {
        "colab": {
          "base_uri": "https://localhost:8080/"
        },
        "id": "xlXdYtmMitN7",
        "outputId": "0afbca07-5004-4935-e4a1-70c2563220e9"
      },
      "execution_count": null,
      "outputs": [
        {
          "output_type": "stream",
          "name": "stdout",
          "text": [
            "r = [-3.52047359e+83]\n",
            "result= [-2.84052692e-84]\n",
            "The number of calls to function has reached maxfev = 400.\n"
          ]
        }
      ]
    },
    {
      "cell_type": "markdown",
      "source": [
        "We can see that, the value r we got is not a root, even though the $f(r)$ is a very small number. Since we turned on the full_output, which have more information. A message will be returned if no solution is found, and we can see mesg details for the cause of failure - “The number of calls to function has reached maxfev = 400.”"
      ],
      "metadata": {
        "id": "lxydcfb-iwyz"
      }
    },
    {
      "cell_type": "markdown",
      "source": [
        "## Section 19.2 (Tolerance)"
      ],
      "metadata": {
        "id": "TjzT1yJtecm6"
      }
    },
    {
      "cell_type": "markdown",
      "source": [
        "In engineering and science, **error** is a deviation from an expected or computed value. **Tolerance** is the level of error that is acceptable for an engineering application. We say that a computer program has **converged** to a solution when it has found a solution with an error smaller than the tolerance. When computing roots numerically, or conducting any other kind of numerical analysis, it is important to establish both a metric for error and a tolerance that is suitable for a given engineering/science application.\n",
        "\n",
        "For computing roots, we want an $x_r$ such that $f(x_r)$ is very close to 0. Therefore $|f(x)|$ is a possible choice for the measure of error since the smaller it is, the likelier we are to a root. Also if we assume that $x_i$ is the $i$th guess of an algorithm for finding a root, then $|x_{i+1}-x_i|$ is another possible choice for measuring error, since we expect the improvements between subsequent guesses to diminish as it approaches a solution. As will be demonstrated in the following examples, these different choices have their advantages and disadvantages.\n",
        "\n",
        "**EXAMPLE:** Let error be measured by $e=|f(x)|$ and tol be the acceptable level of error. The function $f(x)=x^2+tol/2$ has no real roots. However, $|f(0)|=tol/2$ and is therefore acceptable as a solution for a root finding program.\n",
        "\n",
        "**EXAMPLE:** Let error be measured by $e=|xi+1-xi|$ and tol be the acceptable level of error. The function $f(x)=1/x$ has no real roots, but the guesses $x_i=-tol/4$ and $x_{i+1}=tol/4$ have an error of $e=tol/2$ and is an acceptable solution for a computer program.\n",
        "\n",
        "Based on these observations, the use of tolerance and converging criteria must be done very carefully and in the context of the program that uses them."
      ],
      "metadata": {
        "id": "QrhufvmojCVb"
      }
    },
    {
      "cell_type": "markdown",
      "source": [
        "## Section 19.3 (Bisection Method)"
      ],
      "metadata": {
        "id": "LWRhFn3Cec7C"
      }
    },
    {
      "cell_type": "markdown",
      "source": [
        "The **Intermediate Value Theorem** says that if $f(x)$ is a continuous function between $a$ and $b$, and $sign(f(a))\\ne sign(f(b))$, then there must be a $c$, such that $a<c<b$ and $f(c)=0$. This is illustrated in the following figure."
      ],
      "metadata": {
        "id": "fo_iifwLkqyr"
      }
    },
    {
      "cell_type": "markdown",
      "source": [
        "![Capture.PNG](data:image/png;base64,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)"
      ],
      "metadata": {
        "id": "roRZjfG8lKbz"
      }
    },
    {
      "cell_type": "markdown",
      "source": [
        "The bisection method uses the intermediate value theorem iteratively to find roots. Let $f(x)$ be a continuous function, and $a$ and $b$ be real scalar values such that $a<$. Assume, without loss of generality, that $f(a)>0$ and $f(b)<0$. Then by the intermediate value theorem, there must be a root on the open interval $(a,b)$. Now let $m = \\frac{b + a}{2}$, the midpoint between and $a$ and $b$. If $f(m)=0$ or is close enough, then $m$ is a root. If $f(m)>0$, then $m$ is an improvement on the left bound, $a$, and there is guaranteed to be a root on the open interval $(m,b)$. If $f(m)<0$, then $m$ is an improvement on the right bound, $b$, and there is guaranteed to be a root on the open interval $(a,m)$. This scenario is depicted in the following figure."
      ],
      "metadata": {
        "id": "ErXi035jlKu7"
      }
    },
    {
      "cell_type": "markdown",
      "source": [
        "![Capture(1).PNG](data:image/png;base64,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)"
      ],
      "metadata": {
        "id": "t3vjz5XEl4fW"
      }
    },
    {
      "cell_type": "markdown",
      "source": [
        "**EXAMPLE:** Program a function my_bisection(f, a, b, tol) that approximates a root $r$ of $f$, bounded by $a$ and $b$ to within $|f(\\frac{a + b}{2})| < {\\text{tol}}$."
      ],
      "metadata": {
        "id": "Z8Nnjkmsl4oM"
      }
    },
    {
      "cell_type": "code",
      "source": [
        "import numpy as np\n",
        "\n",
        "def my_bisection(f, a, b, tol):\n",
        "    # approximates a root, R, of f bounded\n",
        "    # by a and b to within tolerance\n",
        "    # | f(m) | < tol with m the midpoint\n",
        "    # between a and b Recursive implementation\n",
        "\n",
        "    # check if a and b bound a root\n",
        "    if np.sign(f(a)) == np.sign(f(b)):\n",
        "        raise Exception(\n",
        "         \"The scalars a and b do not bound a root\")\n",
        "\n",
        "    # get midpoint\n",
        "    m = (a + b)/2\n",
        "\n",
        "    if np.abs(f(m)) < tol:\n",
        "        # stopping condition, report m as root\n",
        "        return m\n",
        "    elif np.sign(f(a)) == np.sign(f(m)):\n",
        "        # case where m is an improvement on a.\n",
        "        # Make recursive call with a = m\n",
        "        return my_bisection(f, m, b, tol)\n",
        "    elif np.sign(f(b)) == np.sign(f(m)):\n",
        "        # case where m is an improvement on b.\n",
        "        # Make recursive call with b = m\n",
        "        return my_bisection(f, a, m, tol)"
      ],
      "metadata": {
        "id": "RycqJImDmrCe"
      },
      "execution_count": null,
      "outputs": []
    },
    {
      "cell_type": "markdown",
      "source": [
        "**EXAMPLE:** The $\\sqrt{2}$ can be computed as the root of the function $f(x)=x^2-2$. Starting at $a=0$ and $b=2$, use *my_bisection* to approximate the $\\sqrt{2}$ to a tolerance of $|f(x)|<0.1$ and $|f(x)|<0.01$. Verify that the results are close to a root by plugging the root back into the function."
      ],
      "metadata": {
        "id": "YqniN14xmsWs"
      }
    },
    {
      "cell_type": "code",
      "source": [
        "f = lambda x: x**2 - 2\n",
        "\n",
        "r1 = my_bisection(f, 0, 2, 0.1)\n",
        "print(\"r1 =\", r1)\n",
        "r01 = my_bisection(f, 0, 2, 0.01)\n",
        "print(\"r01 =\", r01)\n",
        "\n",
        "print(\"f(r1) =\", f(r1))\n",
        "print(\"f(r01) =\", f(r01))"
      ],
      "metadata": {
        "id": "0kjjrNfMnYqf",
        "colab": {
          "base_uri": "https://localhost:8080/"
        },
        "outputId": "ea62f0b5-2ddd-473e-b02d-09969dbea18b"
      },
      "execution_count": null,
      "outputs": [
        {
          "output_type": "stream",
          "name": "stdout",
          "text": [
            "r1 = 1.4375\n",
            "r01 = 1.4140625\n",
            "f(r1) = 0.06640625\n",
            "f(r01) = -0.00042724609375\n"
          ]
        }
      ]
    },
    {
      "cell_type": "markdown",
      "source": [
        "**EXAMPLE:** See what will happen if you use $a=2$ and $b=4$ for the above function."
      ],
      "metadata": {
        "id": "RKNQnQCqxT5t"
      }
    },
    {
      "cell_type": "code",
      "source": [
        "my_bisection(f, 2, 4, 0.01)"
      ],
      "metadata": {
        "colab": {
          "base_uri": "https://localhost:8080/",
          "height": 298
        },
        "id": "AfRwwTFnxpEt",
        "outputId": "8820d0a0-0e4c-4e86-da0c-fa06bf9bf3cb"
      },
      "execution_count": null,
      "outputs": [
        {
          "output_type": "error",
          "ename": "Exception",
          "evalue": "The scalars a and b do not bound a root",
          "traceback": [
            "\u001b[0;31m---------------------------------------------------------------------------\u001b[0m",
            "\u001b[0;31mException\u001b[0m                                 Traceback (most recent call last)",
            "\u001b[0;32m<ipython-input-7-4158b7a9ae67>\u001b[0m in \u001b[0;36m<cell line: 1>\u001b[0;34m()\u001b[0m\n\u001b[0;32m----> 1\u001b[0;31m \u001b[0mmy_bisection\u001b[0m\u001b[0;34m(\u001b[0m\u001b[0mf\u001b[0m\u001b[0;34m,\u001b[0m \u001b[0;36m2\u001b[0m\u001b[0;34m,\u001b[0m \u001b[0;36m4\u001b[0m\u001b[0;34m,\u001b[0m \u001b[0;36m0.01\u001b[0m\u001b[0;34m)\u001b[0m\u001b[0;34m\u001b[0m\u001b[0;34m\u001b[0m\u001b[0m\n\u001b[0m",
            "\u001b[0;32m<ipython-input-5-9228e774b782>\u001b[0m in \u001b[0;36mmy_bisection\u001b[0;34m(f, a, b, tol)\u001b[0m\n\u001b[1;32m      9\u001b[0m     \u001b[0;31m# check if a and b bound a root\u001b[0m\u001b[0;34m\u001b[0m\u001b[0;34m\u001b[0m\u001b[0m\n\u001b[1;32m     10\u001b[0m     \u001b[0;32mif\u001b[0m \u001b[0mnp\u001b[0m\u001b[0;34m.\u001b[0m\u001b[0msign\u001b[0m\u001b[0;34m(\u001b[0m\u001b[0mf\u001b[0m\u001b[0;34m(\u001b[0m\u001b[0ma\u001b[0m\u001b[0;34m)\u001b[0m\u001b[0;34m)\u001b[0m \u001b[0;34m==\u001b[0m \u001b[0mnp\u001b[0m\u001b[0;34m.\u001b[0m\u001b[0msign\u001b[0m\u001b[0;34m(\u001b[0m\u001b[0mf\u001b[0m\u001b[0;34m(\u001b[0m\u001b[0mb\u001b[0m\u001b[0;34m)\u001b[0m\u001b[0;34m)\u001b[0m\u001b[0;34m:\u001b[0m\u001b[0;34m\u001b[0m\u001b[0;34m\u001b[0m\u001b[0m\n\u001b[0;32m---> 11\u001b[0;31m         raise Exception(\n\u001b[0m\u001b[1;32m     12\u001b[0m          \"The scalars a and b do not bound a root\")\n\u001b[1;32m     13\u001b[0m \u001b[0;34m\u001b[0m\u001b[0m\n",
            "\u001b[0;31mException\u001b[0m: The scalars a and b do not bound a root"
          ]
        }
      ]
    },
    {
      "cell_type": "markdown",
      "source": [
        "## Section 19.4 (Newton-Raphson Method)"
      ],
      "metadata": {
        "id": "iO4907nFec85"
      }
    },
    {
      "cell_type": "markdown",
      "source": [
        "Let $f(x)$ be a smooth and continuous function and $x_r$ be an unknown root of $f(x)$. Now assume that $x_0$ is a guess for $x_r$. Unless $x_0$ is a very lucky guess, $f(x_0)$ will not be a root. Given this scenario, we want to find an $x_1$ that is an improvement on $x_0$ (i.e., closer to $x_r$ than $x_0$). If we assume that $x_0$ is “close enough” to $x_r$, then we can improve upon it by taking the linear approximation of $f(x)$ around $x_0$, which is a line, and finding the intersection of this line with the x-axis. Written out, the linear approximation of $f(x)$ around $x_0$ is $f(x)≈f(x_0)+f'(x_0)(x-x_0)$. Using this approximation, we find $x_1$ such that $f(x_1)=0$. Plugging these values into the linear approximation results in the equation\n",
        "\n",
        "$0 = f(x_0) + f^{\\prime}(x_0)(x_1-x_0)$\n",
        "\n",
        "which when solved for $x_1$ is $x_1 = x_0 - \\frac{f(x_0)}{f^{\\prime}(x_0)}.$\n",
        "\n",
        "An illustration of how this linear approximation improves an initial guess is shown in the following figure."
      ],
      "metadata": {
        "id": "QrrApM0mxxye"
      }
    },
    {
      "cell_type": "markdown",
      "source": [
        "![Capture(2).PNG](data:image/png;base64,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)"
      ],
      "metadata": {
        "id": "qMuCn2tu-XOE"
      }
    },
    {
      "cell_type": "markdown",
      "source": [
        "Written generally, a **Newton step** computes an improved guess, $x_i$, using a previous guess $x_i-1$, and is given by the equation\n",
        "\n",
        "$x_i = x_{i-1} - \\frac{g(x_{i-1})}{g^{\\prime}(x_{i-1})}$\n",
        "\n",
        "The **Newton-Raphson Method** of finding roots iterates Newton steps from x_0 until the error is less than the tolerance.\n",
        "\n",
        "**EXAMPLE:** Again, the $\\sqrt{2}$ is the root of the function $f(x)=x_2-2$. Using $x_0=1.4$ as a starting point, use the previous equation to estimate $\\sqrt{2}$. Compare this approximation with the value computed by Python's sqrt function.\n",
        "\n",
        "$x = 1.4 - \\frac{1.4^2 - 2}{2(1.4)} = 1.4142857142857144$"
      ],
      "metadata": {
        "id": "hyCEMnEU-Xaf"
      }
    },
    {
      "cell_type": "code",
      "source": [
        "import numpy as np\n",
        "\n",
        "f = lambda x: x**2 - 2\n",
        "f_prime = lambda x: 2*x\n",
        "newton_raphson = 1.4 - (f(1.4))/(f_prime(1.4))\n",
        "\n",
        "print(\"newton_raphson =\", newton_raphson)\n",
        "print(\"sqrt(2) =\", np.sqrt(2))"
      ],
      "metadata": {
        "colab": {
          "base_uri": "https://localhost:8080/"
        },
        "id": "yuE3_05G4Kcl",
        "outputId": "bd3b0b22-2ffd-44fc-a9f8-91ef622db12c"
      },
      "execution_count": null,
      "outputs": [
        {
          "output_type": "stream",
          "name": "stdout",
          "text": [
            "newton_raphson = 1.4142857142857144\n",
            "sqrt(2) = 1.4142135623730951\n"
          ]
        }
      ]
    },
    {
      "cell_type": "markdown",
      "source": [
        "**EXAMPLE:** Write a function $my\\_newton(f,df,x0,tol)$, where the output is an estimation of the root of f, f is a function object $f(x)$, df is a function object to $f'(x)$, *x0* is an initial guess, and *to* is the error tolerance. The error measurement should be $|f(x)|$."
      ],
      "metadata": {
        "id": "HfcfLl4B4Wz0"
      }
    },
    {
      "cell_type": "code",
      "source": [
        "def my_newton(f, df, x0, tol):\n",
        "    # output is an estimation of the root of f\n",
        "    # using the Newton Raphson method\n",
        "    # recursive implementation\n",
        "    if abs(f(x0)) < tol:\n",
        "        return x0\n",
        "    else:\n",
        "        return my_newton(f, df, x0 - f(x0)/df(x0), tol)"
      ],
      "metadata": {
        "id": "3drhsFkb5EJ_"
      },
      "execution_count": null,
      "outputs": []
    },
    {
      "cell_type": "markdown",
      "source": [
        "**EXAMPLE:** Use *my_newton* to compute $\\sqrt{2}$ to within tolerance of 1e-6 starting at *x0 = 1.5*."
      ],
      "metadata": {
        "id": "l2JAnzb3B7Is"
      }
    },
    {
      "cell_type": "code",
      "source": [
        "estimate = my_newton(f, f_prime, 1.5, 1e-6)\n",
        "print(\"estimate =\", estimate)\n",
        "print(\"sqrt(2) =\", np.sqrt(2))"
      ],
      "metadata": {
        "colab": {
          "base_uri": "https://localhost:8080/"
        },
        "id": "3OcmttreCIFI",
        "outputId": "b4c014ef-d139-4b28-f52c-2db2c1678e78"
      },
      "execution_count": null,
      "outputs": [
        {
          "output_type": "stream",
          "name": "stdout",
          "text": [
            "estimate = 1.4142135623746899\n",
            "sqrt(2) = 1.4142135623730951\n"
          ]
        }
      ]
    },
    {
      "cell_type": "markdown",
      "source": [
        "If $x_0$ is close to $x_r$, then it can be proven that, in general, the Newton-Raphson method converges to $x_r$ much faster than the bisection method. However since $x_r$ is initially unknown, there is no way to know if the initial guess is close enough to the root to get this behavior unless some special information about the function is known a *priori* (e.g., the function has a root close to $x=0$). In addition to this initialization problem, the Newton-Raphson method has other serious limitations. For example, if the derivative at a guess is close to 0, then the Newton step will be very large and probably lead far away from the root. Also, depending on the behavior of the function derivative between $x_0$ and $x_r$, the Newton-Raphson method may converge to a different root than $x_r$ that may not be useful for our engineering application.\n",
        "\n",
        "**EXAMPLE:** Compute a single Newton step to get an improved approximation of the root of the function $f(x)=x^3+3x^2-2x-5$ and an initial guess, $x_0=0.29$."
      ],
      "metadata": {
        "id": "5-yokWPFCeg7"
      }
    },
    {
      "cell_type": "code",
      "source": [
        "x0 = 0.29\n",
        "x1 = x0-(x0**3+3*x0**2-2*x0-5)/(3*x0**2+6*x0-2)\n",
        "print(\"x1 =\", x1)"
      ],
      "metadata": {
        "colab": {
          "base_uri": "https://localhost:8080/"
        },
        "id": "Ixw3cFoaDCw1",
        "outputId": "5b327b40-9d1f-480b-95fe-22c45924f240"
      },
      "execution_count": null,
      "outputs": [
        {
          "output_type": "stream",
          "name": "stdout",
          "text": [
            "x1 = -688.4516883116648\n"
          ]
        }
      ]
    },
    {
      "cell_type": "markdown",
      "source": [
        "Note that $f'(x_0)=-0.0077$ (close to 0) and the error at x_1 is approximately 324880000 (very large).\n",
        "\n",
        "**EXAMPLE:** Consider the polynomial $f(x)=x^3-100x^2-x+100$. This polynomial has a root at $x=1$ and $x=100$. Use the Newton-Raphson to find a root of $f$ starting at $x_0=0$.\n",
        "\n",
        "At $x_0=0$,$f(x_0)=100$, and $f'(x)=-1$. A Newton step gives $x_1 = 0 - \\frac{100}{-1} = 100$, which is a root of f. However, note that this root is much farther from the initial guess than the other root at $x=1$, and it may not be the root you wanted from an initial guess of 0."
      ],
      "metadata": {
        "id": "HpsCJRhwyCpf"
      }
    },
    {
      "cell_type": "markdown",
      "source": [
        "## Section 19.5 (Root Finding in Python)"
      ],
      "metadata": {
        "id": "cQoatXFTec-7"
      }
    },
    {
      "cell_type": "markdown",
      "source": [
        "As you may think, Python has the existing root-finding functions for us to use to make things easy. The function we will use to find the root is *f_solve* from the *scipy.optimize*.\n",
        "\n",
        "The *f_solve* function takes in many arguments that you can find in the documentation, but the most important two is the function you want to find the root, and the initial guess.\n",
        "\n",
        "**EXAMPLE:** Compute the root of the function $f(x)=x^3-100x^2-x+100$ using f_solve."
      ],
      "metadata": {
        "id": "kDNr_9suyvgb"
      }
    },
    {
      "cell_type": "code",
      "source": [
        "from scipy.optimize import fsolve"
      ],
      "metadata": {
        "id": "Dm2uzxJozCFD"
      },
      "execution_count": null,
      "outputs": []
    },
    {
      "cell_type": "code",
      "source": [
        "f = lambda x: x**3-100*x**2-x+100\n",
        "\n",
        "fsolve(f, [2, 80])"
      ],
      "metadata": {
        "colab": {
          "base_uri": "https://localhost:8080/"
        },
        "id": "gtp8jXN2zDGd",
        "outputId": "957579fd-e56b-44e0-938d-e82aa57f577a"
      },
      "execution_count": null,
      "outputs": [
        {
          "output_type": "execute_result",
          "data": {
            "text/plain": [
              "array([  1., 100.])"
            ]
          },
          "metadata": {},
          "execution_count": 9
        }
      ]
    },
    {
      "cell_type": "markdown",
      "source": [
        "We know that this function has two roots $x=1$ and $x=100$, therefore, we can get the two roots out fairly simple using the *f_solve* function."
      ],
      "metadata": {
        "id": "7wytTgqDzF9z"
      }
    }
  ]
}