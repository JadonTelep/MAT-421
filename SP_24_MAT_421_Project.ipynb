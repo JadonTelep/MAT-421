{
  "nbformat": 4,
  "nbformat_minor": 0,
  "metadata": {
    "colab": {
      "provenance": [],
      "toc_visible": true,
      "authorship_tag": "ABX9TyNB48yqY4pame/WFEnpD720",
      "include_colab_link": true
    },
    "kernelspec": {
      "name": "python3",
      "display_name": "Python 3"
    },
    "language_info": {
      "name": "python"
    }
  },
  "cells": [
    {
      "cell_type": "markdown",
      "metadata": {
        "id": "view-in-github",
        "colab_type": "text"
      },
      "source": [
        "<a href=\"https://colab.research.google.com/github/JadonTelep/MAT-421/blob/main/SP_24_MAT_421_Project.ipynb\" target=\"_parent\"><img src=\"https://colab.research.google.com/assets/colab-badge.svg\" alt=\"Open In Colab\"/></a>"
      ]
    },
    {
      "cell_type": "markdown",
      "source": [
        "# Discovering Related Pathologies For Lower Back Pain"
      ],
      "metadata": {
        "id": "ZnVnrRuFNaP2"
      }
    },
    {
      "cell_type": "markdown",
      "source": [
        "## Introduction"
      ],
      "metadata": {
        "id": "0lKIwPWoN4py"
      }
    },
    {
      "cell_type": "markdown",
      "source": [
        "Lower back pain is a cause for discusion, as age relaited degeneration of the muscles affects all people leading to loss of activity and function later in life. Over time this degeneration leads to major disability inluding a reduction of daily life activities, work ability, and sexual function (Grabovac and Dorner).\n",
        "\n",
        "Much of this pain is sourced around the spine, sacroiliac joints, and hips(Shemshaki et al.), which do the job of stablizing and supporting the trunk and reduce the distribution of force loads from the lower extremities. This brings concern as to everyday activities and life styles that put additional or dangrous loads on the spin, joints, and hips. The skeletal parts of the spine and hips are cushioned by disks and cartilage that are particularly at risk for acute and chronic damage, and constant preassure brough about by gravity and every day activities have an effect on the ability of these areas.\n",
        "\n",
        "The International Journal of Environmental Research and Public Health released a review of 26,926 surveys to associations between spinal pain and chronic health conditions and investigated the influence that a set of confounders may have on the associations between spinal pain and chronic health conditions. They found 4 particualar chronic health conditions that significantly increased the prevalence odds of spinal pain: cardiovascular conditions, hypertension, diabetes, and obesity, controlling for all the confounders (De Luca et al.). In a different study, they found that weight gain was significantly associated with LBP compared with no weight change. Weight gain of ≥6 kg was particularly closely associated with LBP, compared with no weight change (Lee et al.). A study done by Medicine (Baltimore) found that low back pain was associated with higher body mass index and and waist-hip ratio with increased tendency toward having a higher fat mass index, but not fat-free mass index(Chou et al.). All studies indicate some or direct relationships between the effects of superflous amounts of fat in the body and lower back pain.\n",
        "\n"
      ],
      "metadata": {
        "id": "PQlrxiS6NE60"
      }
    },
    {
      "cell_type": "markdown",
      "source": [
        "## Theory"
      ],
      "metadata": {
        "id": "NhxMyLq-Vmis"
      }
    },
    {
      "cell_type": "markdown",
      "source": [
        "As much of the data collected from the survey was either binary or categorical data, feature analysis using apriori algorithm was done to compare various features with lower back pain.\"Apriori is an algorithm for frequent item set mining and association rule learning over relational databases. It proceeds by identifying the frequent individual items in the database and extending them to larger and larger item sets as long as those item sets appear sufficiently often in the database. The frequent item sets determined by Apriori can be used to determine association rules which highlight general trends in the database: this has applications in domains such as market basket analysis\" (Wiki).\n",
        "\n",
        "Logistic regression and linear regression models were created to indicate any relationship between features that were associated with lower back pain. A logisitic model was used as the target was collected by a binary; however, a linear model was also used to contrast the logistic model. Ideally, a logistic model could be used to classify when a feature crossed a particular threshold that be indicate when an adult would start to experience lower back pain. Logistic models remain at 0 when tending towards -∞ and 1 when tending towards ∞, crossing over from 0 to 1 at a particular x-corrdinatem making it particualary potent for classification.  "
      ],
      "metadata": {
        "id": "nNTKxYl1Va61"
      }
    },
    {
      "cell_type": "markdown",
      "source": [
        "## Implementation"
      ],
      "metadata": {
        "id": "sEUE0cVnTEcD"
      }
    },
    {
      "cell_type": "code",
      "execution_count": 406,
      "metadata": {
        "colab": {
          "base_uri": "https://localhost:8080/"
        },
        "id": "stT1FoyQTnTA",
        "outputId": "bdfeadfb-7604-4696-8111-4d894ad3a42b"
      },
      "outputs": [
        {
          "output_type": "stream",
          "name": "stderr",
          "text": [
            "/usr/local/lib/python3.10/dist-packages/ipykernel/ipkernel.py:283: DeprecationWarning: `should_run_async` will not call `transform_cell` automatically in the future. Please pass the result to `transformed_cell` argument and any exception that happen during thetransform in `preprocessing_exc_tuple` in IPython 7.17 and above.\n",
            "  and should_run_async(code)\n"
          ]
        }
      ],
      "source": [
        "from google.colab import files\n",
        "import pandas as pd\n",
        "import numpy as np\n",
        "from matplotlib import pyplot as plt\n",
        "import seaborn as sns\n",
        "\n",
        "df = []\n",
        "df.append(pd.read_csv('/content/samadult_2018.csv'))\n",
        "df.append(pd.read_csv('/content/samadult_2017.csv'))\n",
        "df.append(pd.read_csv('/content/samadult_2016.csv'))"
      ]
    },
    {
      "cell_type": "markdown",
      "source": [
        "The data was collected from 3 different spread sheets for each years collection of surveys."
      ],
      "metadata": {
        "id": "PXpxjhelYIta"
      }
    },
    {
      "cell_type": "code",
      "source": [
        "comp_df = pd.concat([df[0], df[1], df[2]])"
      ],
      "metadata": {
        "colab": {
          "base_uri": "https://localhost:8080/"
        },
        "id": "nOayvgKKxSFO",
        "outputId": "21a19c0b-09ce-4b0c-fcc6-2a038737e295"
      },
      "execution_count": 407,
      "outputs": [
        {
          "output_type": "stream",
          "name": "stderr",
          "text": [
            "/usr/local/lib/python3.10/dist-packages/ipykernel/ipkernel.py:283: DeprecationWarning: `should_run_async` will not call `transform_cell` automatically in the future. Please pass the result to `transformed_cell` argument and any exception that happen during thetransform in `preprocessing_exc_tuple` in IPython 7.17 and above.\n",
            "  and should_run_async(code)\n"
          ]
        }
      ]
    },
    {
      "cell_type": "markdown",
      "source": [
        "The data was concatenated together into one `DataFrame`, `comp_df`."
      ],
      "metadata": {
        "id": "Djrzpf8VYV2p"
      }
    },
    {
      "cell_type": "code",
      "source": [
        "comp_df.info()"
      ],
      "metadata": {
        "colab": {
          "base_uri": "https://localhost:8080/"
        },
        "id": "HOTX2IF4TZYS",
        "outputId": "5ce4ae07-78b5-4009-9e0d-a582514df7e2"
      },
      "execution_count": 408,
      "outputs": [
        {
          "output_type": "stream",
          "name": "stdout",
          "text": [
            "<class 'pandas.core.frame.DataFrame'>\n",
            "Index: 81617 entries, 0 to (1, 1, 71579, 4, 7129.4, 7467, 1, 12, 1, 1, 1, 1, 54, 30, 2016, 11, 3, 106, 22, nan, nan, 2, 2, 3, 1, 1, nan, nan, 2.0, 1.0, nan, 3.0, 1.0, 1.0, 1.0, 2.0, 0, 24.0, 5.0, 11.0, 4.0, 18.0, nan, 1, 1.0, 1.0, 1.0, 2, nan, nan, nan, 2, 2, 2, 2, 2, 2, 2, 2.0, nan, nan, 2.0, 2, nan, nan, nan, 2, nan, 2, 2, nan, nan, nan, nan, nan, nan, nan, nan, nan, nan, nan, nan, nan, nan, nan, nan, nan, nan, nan, nan, nan, nan, nan, nan, nan, nan, nan, nan, nan, nan, nan, nan, 2, 2, 2, 2, 2, 2, 9, 2, 2.0, 4.0, nan, nan, nan, nan, nan, nan, nan, nan, 2.0, 2.0, 3.0, 2, 2, 2, 2, 2, 2, nan, nan, nan, nan, nan, nan, nan, nan, nan, nan, nan, nan, nan, nan, nan, nan, nan, nan, nan, 2, nan, 2, 2, nan, 2, 2, 2, 2, nan, nan, 2, 2.0, 2, 2, nan, 2, nan, 2, nan, nan, 2, nan, 2, nan, 1.0, 1.0, 2.0, nan, nan, 0.0, 0.0, 0.0, 0.0, 0.0, 0.0, 4, 2, nan, 2, 2, 1.0, 1.0, nan, nan, nan, nan, nan, nan, nan, nan, nan, nan, nan, nan, nan, nan, nan, nan, nan, nan, nan, nan, nan, nan, nan, nan, nan, nan, nan, nan, nan, nan, nan, nan, nan, nan, nan, nan, nan, nan, nan, nan, nan, nan, nan, nan, nan, nan, nan, nan, nan, nan, nan, nan, nan, nan, nan, nan, nan, nan, nan, nan, nan, nan, nan, nan, nan, nan, nan, nan, nan, 3, nan, nan, nan, nan, nan, nan, nan, nan, nan, nan, nan, nan, nan, nan, nan, nan, nan, nan, nan, nan, nan, nan, nan, nan, nan, nan, nan, nan, nan, nan, nan, nan, nan, nan, nan, 0, nan, nan, nan, nan, nan, nan, nan, nan, nan, nan, nan, nan, nan, nan, nan, nan, nan, nan, nan, nan, nan, nan, nan, nan, nan, nan, nan, nan, nan, nan, nan, nan, nan, nan, nan, nan, nan, nan, nan, nan, nan, nan, nan, nan, nan, nan, nan, nan, nan, nan, nan, nan, nan, nan, nan, nan, nan, nan, nan, nan, nan, nan, nan, nan, nan, nan, nan, nan, nan, nan, nan, nan, nan, nan, nan, nan, nan, nan, nan, nan, nan, nan, nan, nan, nan, nan, nan, nan, nan, nan, nan, nan, nan, nan, nan, nan, nan, nan, nan, nan, nan, nan, nan, nan, nan, nan, nan, nan, nan, nan, nan, nan, nan, nan, nan, nan, nan, nan, nan, nan, nan, nan, nan, nan, nan, nan, nan, nan, nan, nan, nan, nan, nan, nan, nan, nan, nan, nan, nan, nan, nan, nan, nan, nan, 0, 2, 0, 0, 0, 0, 0, 0, 0, 0, 0, 0, 0, 0, 2, 0.0, 2, nan, nan, nan, nan, nan, nan, nan, nan, 2, nan, nan, 1, 3.0, 0.0, 2, nan, 2, nan, 0, 0, nan, nan, 0, 0, nan, nan, 0, 0, 1, nan, 1.0, 2.0, 1.0, nan, 0.0, 0.0, 0.0, 4, nan, nan, 95, 95, 95, nan, nan, 0.0, 12.0, 6, 71, 200, 2790, 1, 2.0, 1.0, nan, 2.0, nan, 2, nan, 2, 2, 2, 2, 2, 2, 2, 2, 2, 2, 2, 2, 2, 2, 3, 1, 2.0, 2.0)\n",
            "Columns: 1142 entries, FPX to Unnamed: 269\n",
            "dtypes: float64(1142)\n",
            "memory usage: 711.7+ MB\n"
          ]
        },
        {
          "output_type": "stream",
          "name": "stderr",
          "text": [
            "/usr/local/lib/python3.10/dist-packages/ipykernel/ipkernel.py:283: DeprecationWarning: `should_run_async` will not call `transform_cell` automatically in the future. Please pass the result to `transformed_cell` argument and any exception that happen during thetransform in `preprocessing_exc_tuple` in IPython 7.17 and above.\n",
            "  and should_run_async(code)\n"
          ]
        }
      ]
    },
    {
      "cell_type": "code",
      "source": [
        "comp_df.head()"
      ],
      "metadata": {
        "colab": {
          "base_uri": "https://localhost:8080/",
          "height": 308
        },
        "id": "KfG0_r4vZDxq",
        "outputId": "45852879-684f-4675-f913-90b21551557b"
      },
      "execution_count": 409,
      "outputs": [
        {
          "output_type": "stream",
          "name": "stderr",
          "text": [
            "/usr/local/lib/python3.10/dist-packages/ipykernel/ipkernel.py:283: DeprecationWarning: `should_run_async` will not call `transform_cell` automatically in the future. Please pass the result to `transformed_cell` argument and any exception that happen during thetransform in `preprocessing_exc_tuple` in IPython 7.17 and above.\n",
            "  and should_run_async(code)\n"
          ]
        },
        {
          "output_type": "execute_result",
          "data": {
            "text/plain": [
              "   FPX  FMX   HHX  INTV_QRT  WTIA_SA  WTFA_SA  SEX  HISPAN_I  R_MARITL  \\\n",
              "0  1.0  1.0   1.0       1.0   4228.8   3915.0  2.0      12.0       4.0   \n",
              "1  1.0  1.0   6.0       1.0  14650.9  16978.0  1.0      12.0       1.0   \n",
              "2  1.0  1.0   8.0       1.0   7066.1  10385.0  1.0      12.0       1.0   \n",
              "3  1.0  1.0   9.0       1.0   4497.5   3958.0  1.0      12.0       4.0   \n",
              "4  1.0  1.0  10.0       1.0   5594.0   6483.0  1.0      12.0       1.0   \n",
              "\n",
              "   MRACRPI2  ...  Unnamed: 260  Unnamed: 261  Unnamed: 262  Unnamed: 263  \\\n",
              "0       1.0  ...           NaN           NaN           NaN           NaN   \n",
              "1       1.0  ...           NaN           NaN           NaN           NaN   \n",
              "2       1.0  ...           NaN           NaN           NaN           NaN   \n",
              "3      11.0  ...           NaN           NaN           NaN           NaN   \n",
              "4       1.0  ...           NaN           NaN           NaN           NaN   \n",
              "\n",
              "   Unnamed: 264  Unnamed: 265  Unnamed: 266  Unnamed: 267  Unnamed: 268  \\\n",
              "0           NaN           NaN           NaN           NaN           NaN   \n",
              "1           NaN           NaN           NaN           NaN           NaN   \n",
              "2           NaN           NaN           NaN           NaN           NaN   \n",
              "3           NaN           NaN           NaN           NaN           NaN   \n",
              "4           NaN           NaN           NaN           NaN           NaN   \n",
              "\n",
              "   Unnamed: 269  \n",
              "0           NaN  \n",
              "1           NaN  \n",
              "2           NaN  \n",
              "3           NaN  \n",
              "4           NaN  \n",
              "\n",
              "[5 rows x 1142 columns]"
            ],
            "text/html": [
              "\n",
              "  <div id=\"df-94679cf5-e162-43b1-9f27-fc4b258790c1\" class=\"colab-df-container\">\n",
              "    <div>\n",
              "<style scoped>\n",
              "    .dataframe tbody tr th:only-of-type {\n",
              "        vertical-align: middle;\n",
              "    }\n",
              "\n",
              "    .dataframe tbody tr th {\n",
              "        vertical-align: top;\n",
              "    }\n",
              "\n",
              "    .dataframe thead th {\n",
              "        text-align: right;\n",
              "    }\n",
              "</style>\n",
              "<table border=\"1\" class=\"dataframe\">\n",
              "  <thead>\n",
              "    <tr style=\"text-align: right;\">\n",
              "      <th></th>\n",
              "      <th>FPX</th>\n",
              "      <th>FMX</th>\n",
              "      <th>HHX</th>\n",
              "      <th>INTV_QRT</th>\n",
              "      <th>WTIA_SA</th>\n",
              "      <th>WTFA_SA</th>\n",
              "      <th>SEX</th>\n",
              "      <th>HISPAN_I</th>\n",
              "      <th>R_MARITL</th>\n",
              "      <th>MRACRPI2</th>\n",
              "      <th>...</th>\n",
              "      <th>Unnamed: 260</th>\n",
              "      <th>Unnamed: 261</th>\n",
              "      <th>Unnamed: 262</th>\n",
              "      <th>Unnamed: 263</th>\n",
              "      <th>Unnamed: 264</th>\n",
              "      <th>Unnamed: 265</th>\n",
              "      <th>Unnamed: 266</th>\n",
              "      <th>Unnamed: 267</th>\n",
              "      <th>Unnamed: 268</th>\n",
              "      <th>Unnamed: 269</th>\n",
              "    </tr>\n",
              "  </thead>\n",
              "  <tbody>\n",
              "    <tr>\n",
              "      <th>0</th>\n",
              "      <td>1.0</td>\n",
              "      <td>1.0</td>\n",
              "      <td>1.0</td>\n",
              "      <td>1.0</td>\n",
              "      <td>4228.8</td>\n",
              "      <td>3915.0</td>\n",
              "      <td>2.0</td>\n",
              "      <td>12.0</td>\n",
              "      <td>4.0</td>\n",
              "      <td>1.0</td>\n",
              "      <td>...</td>\n",
              "      <td>NaN</td>\n",
              "      <td>NaN</td>\n",
              "      <td>NaN</td>\n",
              "      <td>NaN</td>\n",
              "      <td>NaN</td>\n",
              "      <td>NaN</td>\n",
              "      <td>NaN</td>\n",
              "      <td>NaN</td>\n",
              "      <td>NaN</td>\n",
              "      <td>NaN</td>\n",
              "    </tr>\n",
              "    <tr>\n",
              "      <th>1</th>\n",
              "      <td>1.0</td>\n",
              "      <td>1.0</td>\n",
              "      <td>6.0</td>\n",
              "      <td>1.0</td>\n",
              "      <td>14650.9</td>\n",
              "      <td>16978.0</td>\n",
              "      <td>1.0</td>\n",
              "      <td>12.0</td>\n",
              "      <td>1.0</td>\n",
              "      <td>1.0</td>\n",
              "      <td>...</td>\n",
              "      <td>NaN</td>\n",
              "      <td>NaN</td>\n",
              "      <td>NaN</td>\n",
              "      <td>NaN</td>\n",
              "      <td>NaN</td>\n",
              "      <td>NaN</td>\n",
              "      <td>NaN</td>\n",
              "      <td>NaN</td>\n",
              "      <td>NaN</td>\n",
              "      <td>NaN</td>\n",
              "    </tr>\n",
              "    <tr>\n",
              "      <th>2</th>\n",
              "      <td>1.0</td>\n",
              "      <td>1.0</td>\n",
              "      <td>8.0</td>\n",
              "      <td>1.0</td>\n",
              "      <td>7066.1</td>\n",
              "      <td>10385.0</td>\n",
              "      <td>1.0</td>\n",
              "      <td>12.0</td>\n",
              "      <td>1.0</td>\n",
              "      <td>1.0</td>\n",
              "      <td>...</td>\n",
              "      <td>NaN</td>\n",
              "      <td>NaN</td>\n",
              "      <td>NaN</td>\n",
              "      <td>NaN</td>\n",
              "      <td>NaN</td>\n",
              "      <td>NaN</td>\n",
              "      <td>NaN</td>\n",
              "      <td>NaN</td>\n",
              "      <td>NaN</td>\n",
              "      <td>NaN</td>\n",
              "    </tr>\n",
              "    <tr>\n",
              "      <th>3</th>\n",
              "      <td>1.0</td>\n",
              "      <td>1.0</td>\n",
              "      <td>9.0</td>\n",
              "      <td>1.0</td>\n",
              "      <td>4497.5</td>\n",
              "      <td>3958.0</td>\n",
              "      <td>1.0</td>\n",
              "      <td>12.0</td>\n",
              "      <td>4.0</td>\n",
              "      <td>11.0</td>\n",
              "      <td>...</td>\n",
              "      <td>NaN</td>\n",
              "      <td>NaN</td>\n",
              "      <td>NaN</td>\n",
              "      <td>NaN</td>\n",
              "      <td>NaN</td>\n",
              "      <td>NaN</td>\n",
              "      <td>NaN</td>\n",
              "      <td>NaN</td>\n",
              "      <td>NaN</td>\n",
              "      <td>NaN</td>\n",
              "    </tr>\n",
              "    <tr>\n",
              "      <th>4</th>\n",
              "      <td>1.0</td>\n",
              "      <td>1.0</td>\n",
              "      <td>10.0</td>\n",
              "      <td>1.0</td>\n",
              "      <td>5594.0</td>\n",
              "      <td>6483.0</td>\n",
              "      <td>1.0</td>\n",
              "      <td>12.0</td>\n",
              "      <td>1.0</td>\n",
              "      <td>1.0</td>\n",
              "      <td>...</td>\n",
              "      <td>NaN</td>\n",
              "      <td>NaN</td>\n",
              "      <td>NaN</td>\n",
              "      <td>NaN</td>\n",
              "      <td>NaN</td>\n",
              "      <td>NaN</td>\n",
              "      <td>NaN</td>\n",
              "      <td>NaN</td>\n",
              "      <td>NaN</td>\n",
              "      <td>NaN</td>\n",
              "    </tr>\n",
              "  </tbody>\n",
              "</table>\n",
              "<p>5 rows × 1142 columns</p>\n",
              "</div>\n",
              "    <div class=\"colab-df-buttons\">\n",
              "\n",
              "  <div class=\"colab-df-container\">\n",
              "    <button class=\"colab-df-convert\" onclick=\"convertToInteractive('df-94679cf5-e162-43b1-9f27-fc4b258790c1')\"\n",
              "            title=\"Convert this dataframe to an interactive table.\"\n",
              "            style=\"display:none;\">\n",
              "\n",
              "  <svg xmlns=\"http://www.w3.org/2000/svg\" height=\"24px\" viewBox=\"0 -960 960 960\">\n",
              "    <path d=\"M120-120v-720h720v720H120Zm60-500h600v-160H180v160Zm220 220h160v-160H400v160Zm0 220h160v-160H400v160ZM180-400h160v-160H180v160Zm440 0h160v-160H620v160ZM180-180h160v-160H180v160Zm440 0h160v-160H620v160Z\"/>\n",
              "  </svg>\n",
              "    </button>\n",
              "\n",
              "  <style>\n",
              "    .colab-df-container {\n",
              "      display:flex;\n",
              "      gap: 12px;\n",
              "    }\n",
              "\n",
              "    .colab-df-convert {\n",
              "      background-color: #E8F0FE;\n",
              "      border: none;\n",
              "      border-radius: 50%;\n",
              "      cursor: pointer;\n",
              "      display: none;\n",
              "      fill: #1967D2;\n",
              "      height: 32px;\n",
              "      padding: 0 0 0 0;\n",
              "      width: 32px;\n",
              "    }\n",
              "\n",
              "    .colab-df-convert:hover {\n",
              "      background-color: #E2EBFA;\n",
              "      box-shadow: 0px 1px 2px rgba(60, 64, 67, 0.3), 0px 1px 3px 1px rgba(60, 64, 67, 0.15);\n",
              "      fill: #174EA6;\n",
              "    }\n",
              "\n",
              "    .colab-df-buttons div {\n",
              "      margin-bottom: 4px;\n",
              "    }\n",
              "\n",
              "    [theme=dark] .colab-df-convert {\n",
              "      background-color: #3B4455;\n",
              "      fill: #D2E3FC;\n",
              "    }\n",
              "\n",
              "    [theme=dark] .colab-df-convert:hover {\n",
              "      background-color: #434B5C;\n",
              "      box-shadow: 0px 1px 3px 1px rgba(0, 0, 0, 0.15);\n",
              "      filter: drop-shadow(0px 1px 2px rgba(0, 0, 0, 0.3));\n",
              "      fill: #FFFFFF;\n",
              "    }\n",
              "  </style>\n",
              "\n",
              "    <script>\n",
              "      const buttonEl =\n",
              "        document.querySelector('#df-94679cf5-e162-43b1-9f27-fc4b258790c1 button.colab-df-convert');\n",
              "      buttonEl.style.display =\n",
              "        google.colab.kernel.accessAllowed ? 'block' : 'none';\n",
              "\n",
              "      async function convertToInteractive(key) {\n",
              "        const element = document.querySelector('#df-94679cf5-e162-43b1-9f27-fc4b258790c1');\n",
              "        const dataTable =\n",
              "          await google.colab.kernel.invokeFunction('convertToInteractive',\n",
              "                                                    [key], {});\n",
              "        if (!dataTable) return;\n",
              "\n",
              "        const docLinkHtml = 'Like what you see? Visit the ' +\n",
              "          '<a target=\"_blank\" href=https://colab.research.google.com/notebooks/data_table.ipynb>data table notebook</a>'\n",
              "          + ' to learn more about interactive tables.';\n",
              "        element.innerHTML = '';\n",
              "        dataTable['output_type'] = 'display_data';\n",
              "        await google.colab.output.renderOutput(dataTable, element);\n",
              "        const docLink = document.createElement('div');\n",
              "        docLink.innerHTML = docLinkHtml;\n",
              "        element.appendChild(docLink);\n",
              "      }\n",
              "    </script>\n",
              "  </div>\n",
              "\n",
              "\n",
              "<div id=\"df-e57ee6f6-a5ba-454e-9ede-078ea0957ee4\">\n",
              "  <button class=\"colab-df-quickchart\" onclick=\"quickchart('df-e57ee6f6-a5ba-454e-9ede-078ea0957ee4')\"\n",
              "            title=\"Suggest charts\"\n",
              "            style=\"display:none;\">\n",
              "\n",
              "<svg xmlns=\"http://www.w3.org/2000/svg\" height=\"24px\"viewBox=\"0 0 24 24\"\n",
              "     width=\"24px\">\n",
              "    <g>\n",
              "        <path d=\"M19 3H5c-1.1 0-2 .9-2 2v14c0 1.1.9 2 2 2h14c1.1 0 2-.9 2-2V5c0-1.1-.9-2-2-2zM9 17H7v-7h2v7zm4 0h-2V7h2v10zm4 0h-2v-4h2v4z\"/>\n",
              "    </g>\n",
              "</svg>\n",
              "  </button>\n",
              "\n",
              "<style>\n",
              "  .colab-df-quickchart {\n",
              "      --bg-color: #E8F0FE;\n",
              "      --fill-color: #1967D2;\n",
              "      --hover-bg-color: #E2EBFA;\n",
              "      --hover-fill-color: #174EA6;\n",
              "      --disabled-fill-color: #AAA;\n",
              "      --disabled-bg-color: #DDD;\n",
              "  }\n",
              "\n",
              "  [theme=dark] .colab-df-quickchart {\n",
              "      --bg-color: #3B4455;\n",
              "      --fill-color: #D2E3FC;\n",
              "      --hover-bg-color: #434B5C;\n",
              "      --hover-fill-color: #FFFFFF;\n",
              "      --disabled-bg-color: #3B4455;\n",
              "      --disabled-fill-color: #666;\n",
              "  }\n",
              "\n",
              "  .colab-df-quickchart {\n",
              "    background-color: var(--bg-color);\n",
              "    border: none;\n",
              "    border-radius: 50%;\n",
              "    cursor: pointer;\n",
              "    display: none;\n",
              "    fill: var(--fill-color);\n",
              "    height: 32px;\n",
              "    padding: 0;\n",
              "    width: 32px;\n",
              "  }\n",
              "\n",
              "  .colab-df-quickchart:hover {\n",
              "    background-color: var(--hover-bg-color);\n",
              "    box-shadow: 0 1px 2px rgba(60, 64, 67, 0.3), 0 1px 3px 1px rgba(60, 64, 67, 0.15);\n",
              "    fill: var(--button-hover-fill-color);\n",
              "  }\n",
              "\n",
              "  .colab-df-quickchart-complete:disabled,\n",
              "  .colab-df-quickchart-complete:disabled:hover {\n",
              "    background-color: var(--disabled-bg-color);\n",
              "    fill: var(--disabled-fill-color);\n",
              "    box-shadow: none;\n",
              "  }\n",
              "\n",
              "  .colab-df-spinner {\n",
              "    border: 2px solid var(--fill-color);\n",
              "    border-color: transparent;\n",
              "    border-bottom-color: var(--fill-color);\n",
              "    animation:\n",
              "      spin 1s steps(1) infinite;\n",
              "  }\n",
              "\n",
              "  @keyframes spin {\n",
              "    0% {\n",
              "      border-color: transparent;\n",
              "      border-bottom-color: var(--fill-color);\n",
              "      border-left-color: var(--fill-color);\n",
              "    }\n",
              "    20% {\n",
              "      border-color: transparent;\n",
              "      border-left-color: var(--fill-color);\n",
              "      border-top-color: var(--fill-color);\n",
              "    }\n",
              "    30% {\n",
              "      border-color: transparent;\n",
              "      border-left-color: var(--fill-color);\n",
              "      border-top-color: var(--fill-color);\n",
              "      border-right-color: var(--fill-color);\n",
              "    }\n",
              "    40% {\n",
              "      border-color: transparent;\n",
              "      border-right-color: var(--fill-color);\n",
              "      border-top-color: var(--fill-color);\n",
              "    }\n",
              "    60% {\n",
              "      border-color: transparent;\n",
              "      border-right-color: var(--fill-color);\n",
              "    }\n",
              "    80% {\n",
              "      border-color: transparent;\n",
              "      border-right-color: var(--fill-color);\n",
              "      border-bottom-color: var(--fill-color);\n",
              "    }\n",
              "    90% {\n",
              "      border-color: transparent;\n",
              "      border-bottom-color: var(--fill-color);\n",
              "    }\n",
              "  }\n",
              "</style>\n",
              "\n",
              "  <script>\n",
              "    async function quickchart(key) {\n",
              "      const quickchartButtonEl =\n",
              "        document.querySelector('#' + key + ' button');\n",
              "      quickchartButtonEl.disabled = true;  // To prevent multiple clicks.\n",
              "      quickchartButtonEl.classList.add('colab-df-spinner');\n",
              "      try {\n",
              "        const charts = await google.colab.kernel.invokeFunction(\n",
              "            'suggestCharts', [key], {});\n",
              "      } catch (error) {\n",
              "        console.error('Error during call to suggestCharts:', error);\n",
              "      }\n",
              "      quickchartButtonEl.classList.remove('colab-df-spinner');\n",
              "      quickchartButtonEl.classList.add('colab-df-quickchart-complete');\n",
              "    }\n",
              "    (() => {\n",
              "      let quickchartButtonEl =\n",
              "        document.querySelector('#df-e57ee6f6-a5ba-454e-9ede-078ea0957ee4 button');\n",
              "      quickchartButtonEl.style.display =\n",
              "        google.colab.kernel.accessAllowed ? 'block' : 'none';\n",
              "    })();\n",
              "  </script>\n",
              "</div>\n",
              "\n",
              "    </div>\n",
              "  </div>\n"
            ],
            "application/vnd.google.colaboratory.intrinsic+json": {
              "type": "dataframe",
              "variable_name": "comp_df"
            }
          },
          "metadata": {},
          "execution_count": 409
        }
      ]
    },
    {
      "cell_type": "markdown",
      "source": [
        "`comp_df` contains the 81617 surveys from 2016 to 2018. Most questions from the surveys were used in each years surveys so there is much overlay of features over the 3 years the surveys were collect. All entries are floats. Most categorical data was binary with yes answers being tagged as a 1 and no answers being tagged as a 2. Other numbers were used to not answer the specific question: 7 for refused, 8 not ascertained, 9 don't know. The FPX, FMX, and HHX features are used for identifying particular entries. No one entry should have all three be the same."
      ],
      "metadata": {
        "id": "oByjMtmNYgQg"
      }
    },
    {
      "cell_type": "code",
      "source": [
        "comp_df.drop(['SRVY_YR', 'WTIA_SA', 'WTFA_SA', 'INTV_QRT'], axis=1)\n",
        "demo_features = comp_df[['SEX', 'HISPAN_I', 'MRACRPI2', 'RACERPI2', 'MRACBPI2']]\n",
        "cat_features = comp_df[['HYPEV','CHLEV', 'CHDEV', 'ANGEV', 'MIEV', 'HRTEV', 'STREV', 'EPHEV', 'COPDEV', 'CANEV','DIBEV1', 'JNTSYMP', 'ARTH1', 'AFLHC29_', 'AFLHC30_', 'PAINLB']]"
      ],
      "metadata": {
        "colab": {
          "base_uri": "https://localhost:8080/"
        },
        "id": "m5RGrkmb5tF8",
        "outputId": "3eed8a72-2787-4e97-ea2a-2b53cf60f7bf"
      },
      "execution_count": 410,
      "outputs": [
        {
          "output_type": "stream",
          "name": "stderr",
          "text": [
            "/usr/local/lib/python3.10/dist-packages/ipykernel/ipkernel.py:283: DeprecationWarning: `should_run_async` will not call `transform_cell` automatically in the future. Please pass the result to `transformed_cell` argument and any exception that happen during thetransform in `preprocessing_exc_tuple` in IPython 7.17 and above.\n",
            "  and should_run_async(code)\n"
          ]
        }
      ]
    },
    {
      "cell_type": "markdown",
      "source": [
        "Features were specifically selected from the surveys in order to create a wide range for the categorical features. Each feature was tagged with a particalur ID that can be referenced using the Variable Summary or Variable Layout provided with the data set from the NCHS."
      ],
      "metadata": {
        "id": "VKGtO_Q_ZgLl"
      }
    },
    {
      "cell_type": "code",
      "source": [
        "def clean_df(unclean_df):\n",
        "  unclean_df = unclean_df[unclean_df['PAINLB'] == 1].drop('PAINLB', axis=1)\n",
        "  unclean_df = unclean_df.replace({2: 0, 3: 0, 7: 0, 8: 0, 9: 0})\n",
        "  clean_df = unclean_df.replace(np.NaN, 0)\n",
        "  clean_df = clean_df.drop_duplicates()\n",
        "  print(clean_df.info())\n",
        "  return clean_df"
      ],
      "metadata": {
        "colab": {
          "base_uri": "https://localhost:8080/"
        },
        "id": "9z5-QzWJDdkV",
        "outputId": "f5e53020-21b7-417f-9939-f1e293279c87"
      },
      "execution_count": 411,
      "outputs": [
        {
          "output_type": "stream",
          "name": "stderr",
          "text": [
            "/usr/local/lib/python3.10/dist-packages/ipykernel/ipkernel.py:283: DeprecationWarning: `should_run_async` will not call `transform_cell` automatically in the future. Please pass the result to `transformed_cell` argument and any exception that happen during thetransform in `preprocessing_exc_tuple` in IPython 7.17 and above.\n",
            "  and should_run_async(code)\n"
          ]
        }
      ]
    },
    {
      "cell_type": "markdown",
      "source": [
        "Basic preprocessing was done to allow frequent item analysis. Of the data that was tagged as a 2, the id was changed to a 0 for a false identifier. Any data that was unaswered or tagged as unsure, was changed to a 0 as well. `drop_duplicates` was ran to remove any duplicates."
      ],
      "metadata": {
        "id": "j-4ezA-NaHil"
      }
    },
    {
      "cell_type": "code",
      "source": [
        "from mlxtend.frequent_patterns import apriori\n",
        "\n",
        "def freq_anlys(test_df):\n",
        "  frequent_itemsets = apriori(test_df, min_support=0.37, use_colnames=True).sort_values(by=['support'], ascending=False)\n",
        "  frequent_itemsets_str = frequent_itemsets.copy()\n",
        "  frequent_itemsets_str['itemsets'] = frequent_itemsets_str['itemsets'].astype(str)\n",
        "  frequent_itemsets_str['itemsets'] = frequent_itemsets_str['itemsets'].str.replace('frozenset', '')\n",
        "  print(frequent_itemsets)\n",
        "  sns.barplot(x='support', y='itemsets', data=frequent_itemsets_str[frequent_itemsets_str['itemsets'].str.contains(\",\") == False ])\n",
        "\n",
        "clean_dat_features = clean_df(cat_features)\n",
        "freq_anlys(clean_dat_features)"
      ],
      "metadata": {
        "colab": {
          "base_uri": "https://localhost:8080/",
          "height": 1000
        },
        "id": "CoSfSFMRMklN",
        "outputId": "1534047a-a310-4679-e8f7-60fab8377a25"
      },
      "execution_count": 412,
      "outputs": [
        {
          "output_type": "stream",
          "name": "stderr",
          "text": [
            "/usr/local/lib/python3.10/dist-packages/ipykernel/ipkernel.py:283: DeprecationWarning: `should_run_async` will not call `transform_cell` automatically in the future. Please pass the result to `transformed_cell` argument and any exception that happen during thetransform in `preprocessing_exc_tuple` in IPython 7.17 and above.\n",
            "  and should_run_async(code)\n",
            "/usr/local/lib/python3.10/dist-packages/mlxtend/frequent_patterns/fpcommon.py:110: DeprecationWarning: DataFrames with non-bool types result in worse computationalperformance and their support might be discontinued in the future.Please use a DataFrame with bool type\n",
            "  warnings.warn(\n"
          ]
        },
        {
          "output_type": "stream",
          "name": "stdout",
          "text": [
            "<class 'pandas.core.frame.DataFrame'>\n",
            "Index: 1369 entries, 2 to 26728\n",
            "Data columns (total 15 columns):\n",
            " #   Column    Non-Null Count  Dtype  \n",
            "---  ------    --------------  -----  \n",
            " 0   HYPEV     1369 non-null   float64\n",
            " 1   CHLEV     1369 non-null   float64\n",
            " 2   CHDEV     1369 non-null   float64\n",
            " 3   ANGEV     1369 non-null   float64\n",
            " 4   MIEV      1369 non-null   float64\n",
            " 5   HRTEV     1369 non-null   float64\n",
            " 6   STREV     1369 non-null   float64\n",
            " 7   EPHEV     1369 non-null   float64\n",
            " 8   COPDEV    1369 non-null   float64\n",
            " 9   CANEV     1369 non-null   float64\n",
            " 10  DIBEV1    1369 non-null   float64\n",
            " 11  JNTSYMP   1369 non-null   float64\n",
            " 12  ARTH1     1369 non-null   float64\n",
            " 13  AFLHC29_  1369 non-null   float64\n",
            " 14  AFLHC30_  1369 non-null   float64\n",
            "dtypes: float64(15)\n",
            "memory usage: 171.1+ KB\n",
            "None\n",
            "     support          itemsets\n",
            "0   0.669832           (HYPEV)\n",
            "5   0.655953         (JNTSYMP)\n",
            "6   0.623813           (ARTH1)\n",
            "1   0.601899           (CHLEV)\n",
            "12  0.455077  (JNTSYMP, ARTH1)\n",
            "2   0.448503           (CHDEV)\n",
            "8   0.444850  (JNTSYMP, HYPEV)\n",
            "9   0.428780    (ARTH1, HYPEV)\n",
            "3   0.427319           (HRTEV)\n",
            "7   0.424397    (CHLEV, HYPEV)\n",
            "10  0.399562  (CHLEV, JNTSYMP)\n",
            "4   0.379839          (COPDEV)\n",
            "11  0.375457    (CHLEV, ARTH1)\n"
          ]
        },
        {
          "output_type": "display_data",
          "data": {
            "text/plain": [
              "<Figure size 640x480 with 1 Axes>"
            ],
            "image/png": "[encoded data removed]"
          },
          "metadata": {}
        }
      ]
    },
    {
      "cell_type": "markdown",
      "source": [
        "After preprocessing, 16,222 surveys were analyzed using Apriori's Algorithm. Of those adults who experienced lower back pain for a period of at least 3 months, 60% had some other symptoms of joint pain/aching/stiffness past 30 days, 47% had been told they had arthritis, 46% had been told they had hypertension, 40% had been told they had high cholestrol, and 39% had some other symptoms of joint pain/aching/stiffness past 30 days and had been told they had arthritis. Other categories showed insignificant. Hypertension and choronary disease went over further review to identify the severity of these in adults who experienced such hypertension and choronary disease."
      ],
      "metadata": {
        "id": "pZF2L5hpRruB"
      }
    },
    {
      "cell_type": "code",
      "source": [
        "hyp_features = comp_df[['HYPEV', 'HYPDIFV', 'HYPYR1', 'HYPMDEV2', 'HYPMED2', 'PAINLB']]\n",
        "hyp_features = hyp_features[hyp_features['HYPEV'] == 1].drop('HYPEV', axis=1)\n",
        "clean_hyp_features = clean_df(hyp_features)\n",
        "freq_anlys(clean_hyp_features)"
      ],
      "metadata": {
        "colab": {
          "base_uri": "https://localhost:8080/",
          "height": 816
        },
        "id": "sG-r77jXsWe2",
        "outputId": "2c5114b1-5629-41cb-8756-5ce6507ed172"
      },
      "execution_count": 413,
      "outputs": [
        {
          "output_type": "stream",
          "name": "stderr",
          "text": [
            "/usr/local/lib/python3.10/dist-packages/ipykernel/ipkernel.py:283: DeprecationWarning: `should_run_async` will not call `transform_cell` automatically in the future. Please pass the result to `transformed_cell` argument and any exception that happen during thetransform in `preprocessing_exc_tuple` in IPython 7.17 and above.\n",
            "  and should_run_async(code)\n",
            "/usr/local/lib/python3.10/dist-packages/mlxtend/frequent_patterns/fpcommon.py:110: DeprecationWarning: DataFrames with non-bool types result in worse computationalperformance and their support might be discontinued in the future.Please use a DataFrame with bool type\n",
            "  warnings.warn(\n"
          ]
        },
        {
          "output_type": "stream",
          "name": "stdout",
          "text": [
            "<class 'pandas.core.frame.DataFrame'>\n",
            "Index: 9 entries, 3 to 427\n",
            "Data columns (total 4 columns):\n",
            " #   Column    Non-Null Count  Dtype  \n",
            "---  ------    --------------  -----  \n",
            " 0   HYPDIFV   9 non-null      float64\n",
            " 1   HYPYR1    9 non-null      float64\n",
            " 2   HYPMDEV2  9 non-null      float64\n",
            " 3   HYPMED2   9 non-null      float64\n",
            "dtypes: float64(4)\n",
            "memory usage: 360.0+ bytes\n",
            "None\n",
            "    support             itemsets\n",
            "0  0.666667            (HYPDIFV)\n",
            "1  0.666667           (HYPMDEV2)\n",
            "2  0.444444  (HYPMDEV2, HYPDIFV)\n"
          ]
        },
        {
          "output_type": "display_data",
          "data": {
            "text/plain": [
              "<Figure size 640x480 with 1 Axes>"
            ],
            "image/png": "[encoded data removed]"
          },
          "metadata": {}
        }
      ]
    },
    {
      "cell_type": "code",
      "source": [
        "chl_features = comp_df[['CHLEV', 'CHLYR', 'CHLMDEV2', 'CHLMDNW2', 'PAINLB']]\n",
        "chl_features = chl_features[chl_features['CHLEV'] == 1].drop('CHLEV', axis=1)\n",
        "clean_chl_features = clean_df(chl_features)\n",
        "freq_anlys(clean_chl_features)"
      ],
      "metadata": {
        "colab": {
          "base_uri": "https://localhost:8080/",
          "height": 781
        },
        "id": "AxmRnnHIFe3p",
        "outputId": "f71372fe-af92-42b7-e8b3-bcbb6402bd05"
      },
      "execution_count": 414,
      "outputs": [
        {
          "output_type": "stream",
          "name": "stderr",
          "text": [
            "/usr/local/lib/python3.10/dist-packages/ipykernel/ipkernel.py:283: DeprecationWarning: `should_run_async` will not call `transform_cell` automatically in the future. Please pass the result to `transformed_cell` argument and any exception that happen during thetransform in `preprocessing_exc_tuple` in IPython 7.17 and above.\n",
            "  and should_run_async(code)\n",
            "/usr/local/lib/python3.10/dist-packages/mlxtend/frequent_patterns/fpcommon.py:110: DeprecationWarning: DataFrames with non-bool types result in worse computationalperformance and their support might be discontinued in the future.Please use a DataFrame with bool type\n",
            "  warnings.warn(\n"
          ]
        },
        {
          "output_type": "stream",
          "name": "stdout",
          "text": [
            "<class 'pandas.core.frame.DataFrame'>\n",
            "Index: 6 entries, 3 to 402\n",
            "Data columns (total 3 columns):\n",
            " #   Column    Non-Null Count  Dtype  \n",
            "---  ------    --------------  -----  \n",
            " 0   CHLYR     6 non-null      float64\n",
            " 1   CHLMDEV2  6 non-null      float64\n",
            " 2   CHLMDNW2  6 non-null      float64\n",
            "dtypes: float64(3)\n",
            "memory usage: 192.0+ bytes\n",
            "None\n",
            "    support    itemsets\n",
            "1  0.666667  (CHLMDEV2)\n",
            "0  0.500000     (CHLYR)\n"
          ]
        },
        {
          "output_type": "display_data",
          "data": {
            "text/plain": [
              "<Figure size 640x480 with 1 Axes>"
            ],
            "image/png": "[encoded data removed]"
          },
          "metadata": {}
        }
      ]
    },
    {
      "cell_type": "markdown",
      "source": [
        "Of those adults who experienced lower back pain for a period of at least 3 months and had been told they had hypertension, 90% where ever prescribed medice for high blood pressure, 90% ever had hypertenstion on 2+ visits, 80% were now taking prescribed medicine for high blood pressure, and 78% had hypertension, past 12 months. Of those adults who experienced lower back pain for a period of at least 3 months and had been told they had high cholesterol, 77% where ever prescribed medice to lower cholesterol, 75% had high cholesterol past 12 months, 67% were now taking prescribed medicine to lower cholesterol. Of those who had been told they had hypertension or lower cholesterol, they were within 1 and 2 standard deviations of the reviewed parameters for chronic affliction."
      ],
      "metadata": {
        "id": "CZxFIRpDsWuJ"
      }
    },
    {
      "cell_type": "code",
      "source": [
        "from sklearn.linear_model import LogisticRegression, LinearRegression\n",
        "from sklearn.model_selection import train_test_split\n",
        "from scipy.special import expit\n",
        "\n",
        "num_features = comp_df[['ALTIME9', 'ALTIME18', 'PAINLB']]\n",
        "\n",
        "def lin_log_test(feature):\n",
        "  X = num_features[feature]\n",
        "  y = num_features['PAINLB']\n",
        "  y = y.replace({2: 0, 9: np.NaN})\n",
        "  hyp_df = pd.concat([X,y], axis=1)\n",
        "  hyp_df = hyp_df.dropna()\n",
        "  hyp_df.info()\n",
        "  X = hyp_df[feature]\n",
        "  y = hyp_df['PAINLB']\n",
        "\n",
        "  X_train, X_test, y_train, y_test = train_test_split(X, y, test_size=0.2, random_state=1)\n",
        "  X_train = X_train.values.reshape(-1, 1)\n",
        "  X_test = X_test.values.reshape(-1, 1)\n",
        "\n",
        "  logreg = LogisticRegression(random_state=0)\n",
        "  logreg.fit(X_train, y_train)\n",
        "  print(logreg.score(X_test, y_test))\n",
        "  plt.clf()\n",
        "  plt.scatter(X.ravel(), y, color=\"black\", zorder=20)\n",
        "  loss = expit(X_test * logreg.coef_ + logreg.intercept_).ravel()\n",
        "  plt.plot(X_test, loss, label=\"Logistic Regression Model\", color=\"red\", linewidth=3)\n",
        "\n",
        "  linreg = LinearRegression()\n",
        "  linreg.fit(X_train, y_train)\n",
        "  print(linreg.score(X_test, y_test))\n",
        "  plt.plot(X_test, linreg.coef_ * X_test + linreg.intercept_, label=\"Linear Regression Model\", linewidth=2)\n",
        "  plt.axhline(0.5, color=\".5\")\n",
        "\n",
        "  plt.xlim(-10, 110)\n",
        "  plt.yticks([0, 0.5, 1])\n",
        "  plt.ylim(-0.25, 1.25)\n",
        "  plt.legend(loc=\"lower right\", fontsize=\"small\")\n",
        "  plt.show()\n",
        "\n",
        "lin_log_test('ALTIME9')\n",
        "lin_log_test('ALTIME18')"
      ],
      "metadata": {
        "colab": {
          "base_uri": "https://localhost:8080/",
          "height": 1000
        },
        "id": "-wjShaImZh87",
        "outputId": "a7da5a61-b0a8-4907-c9e2-db820c15ba1c"
      },
      "execution_count": 415,
      "outputs": [
        {
          "output_type": "stream",
          "name": "stderr",
          "text": [
            "/usr/local/lib/python3.10/dist-packages/ipykernel/ipkernel.py:283: DeprecationWarning: `should_run_async` will not call `transform_cell` automatically in the future. Please pass the result to `transformed_cell` argument and any exception that happen during thetransform in `preprocessing_exc_tuple` in IPython 7.17 and above.\n",
            "  and should_run_async(code)\n"
          ]
        },
        {
          "output_type": "stream",
          "name": "stdout",
          "text": [
            "<class 'pandas.core.frame.DataFrame'>\n",
            "Index: 957 entries, 6 to 26729\n",
            "Data columns (total 2 columns):\n",
            " #   Column   Non-Null Count  Dtype  \n",
            "---  ------   --------------  -----  \n",
            " 0   ALTIME9  957 non-null    float64\n",
            " 1   PAINLB   957 non-null    float64\n",
            "dtypes: float64(2)\n",
            "memory usage: 22.4+ KB\n",
            "0.6302083333333334\n",
            "-0.002013742813706809\n"
          ]
        },
        {
          "output_type": "display_data",
          "data": {
            "text/plain": [
              "<Figure size 640x480 with 1 Axes>"
            ],
            "image/png": "[encoded data removed]"
          },
          "metadata": {}
        },
        {
          "output_type": "stream",
          "name": "stdout",
          "text": [
            "<class 'pandas.core.frame.DataFrame'>\n",
            "Index: 1015 entries, 24 to 26656\n",
            "Data columns (total 2 columns):\n",
            " #   Column    Non-Null Count  Dtype  \n",
            "---  ------    --------------  -----  \n",
            " 0   ALTIME18  1015 non-null   float64\n",
            " 1   PAINLB    1015 non-null   float64\n",
            "dtypes: float64(2)\n",
            "memory usage: 23.8+ KB\n",
            "0.4975369458128079\n",
            "-0.02004889089177797\n"
          ]
        },
        {
          "output_type": "display_data",
          "data": {
            "text/plain": [
              "<Figure size 640x480 with 1 Axes>"
            ],
            "image/png": "[encoded data removed]"
          },
          "metadata": {}
        }
      ]
    },
    {
      "cell_type": "markdown",
      "source": [
        "A logistic regretion and linear regression model where ran to determine any relationship between experiencing lower back pain and the duration of hypertension or high blood pressure and the duration of weight problem. 957 surverys were used for this analsys. No model was able to display a correlation between the specified features and lower back pain. This is to say that though lower back pain and hypertension or high blood pressure may be comorbid, there appears to be no relationship between them."
      ],
      "metadata": {
        "id": "a6FLiu37mlTB"
      }
    },
    {
      "cell_type": "markdown",
      "source": [
        "## Data"
      ],
      "metadata": {
        "id": "u8RmQHFvW7Ny"
      }
    },
    {
      "cell_type": "markdown",
      "source": [
        "I explored this further, using surveys collected by The National Center for Health Statistics. Samples were collect from adults over varying demographics from 2016-2018 inorder to collect a review of overall health. 81,617 different surveys were collected for 1142 varying features. Further details as to variable documentation can be found at https://www.cdc.gov/nchs/nhis/data-questionnaires-documentation.htm."
      ],
      "metadata": {
        "id": "eFgRngeWW6BB"
      }
    },
    {
      "cell_type": "markdown",
      "source": [
        "## References"
      ],
      "metadata": {
        "id": "V63-rwxpW6iq"
      }
    },
    {
      "cell_type": "markdown",
      "source": [
        "Work Cited\n",
        "\n",
        "Aasa, Björn, et al. “Individualized low-load motor control exercises and education versus a\n",
        "high-load lifting exercise and education to improve activity, pain intensity, and physical\n",
        "performance in patients with low back pain: A randomized controlled trial.” Journal of\n",
        "Orthopaedic &amp; Sports Physical Therapy, vol. 45, no. 2, Feb. 2015, pp. 77–85,\n",
        "https://doi.org/10.2519/jospt.2015.5021.\n",
        "\n",
        "“Apriori Algorithm.” Wikipedia, Wikimedia Foundation, 27 Feb. 2024, en.wikipedia.org/wiki/Apriori_algorithm.\n",
        "\n",
        "Chou, Louisa, et al. “The association between obesity and low back pain and disability is\n",
        "affected by mood disorders.” Medicine, vol. 95, no. 15, Apr. 2016, =\n",
        "https://doi.org/10.1097/md.0000000000003367.\n",
        "\n",
        "Cunningham, Erin, et al. “The relationships between physical activity, lumbar multifidus muscle\n",
        "morphology, and low back pain from childhood to early adulthood: A 12-year\n",
        "longitudinal study.” Scientific Reports, vol. 12, no. 1, 25 May 2022,\n",
        "https://doi.org/10.1038/s41598-022-12674-8.\n",
        "\n",
        "De Luca, Katie, et al. “Spinal pain, chronic health conditions and Health Behaviors: Data from\n",
        "the 2016–2018 National Health Interview Survey.” International Journal of\n",
        "Environmental Research and Public Health, vol. 20, no. 7, 3 Apr. 2023, p. 5369,\n",
        "https://doi.org/10.3390/ijerph20075369.\n",
        "\n",
        "D’hooge, Roseline, et al. “Increased intramuscular fatty infiltration without differences in lumbar\n",
        "muscle cross-sectional area during remission of unilateral recurrent low back pain.”\n",
        "Manual Therapy, vol. 17, no. 6, Dec. 2012, pp. 584–588,\n",
        "https://doi.org/10.1016/j.math.2012.06.007.\n",
        "\n",
        "Grabovac, Igor, and Thomas Ernst Dorner. “Association between low back pain and various\n",
        "everyday performances.” Wiener Klinische Wochenschrift, vol. 131, no. 21–22, 6 Sept.\n",
        "2019, pp. 541–549, https://doi.org/10.1007/s00508-019-01542-7.\n",
        "\n",
        "Lee, Choung Ah, et al. “The relationship between change of weight and chronic low back pain in\n",
        "population over 50 years of age: A nationwide cross-sectional study.” International\n",
        "Journal of Environmental Research and Public Health, vol. 18, no. 8, 9 Apr. 2021, p.\n",
        "3969, https://doi.org/10.3390/ijerph18083969.\n",
        "\n",
        "Paungmali, Aatit, et al. “Improvements in tissue blood flow and Lumbopelvic stability after\n",
        "lumbopelvic core stabilization training in patients with chronic non-specific low back\n",
        "pain.” Journal of Physical Therapy Science, vol. 28, no. 2, 29 Feb. 2016, pp. 635–640,\n",
        "https://doi.org/10.1589/jpts.28.635.\n",
        "\n",
        "National Center for Health Statistics. “National Health Interview Survey.” National Center for Health Statistics, 2016-2018, Accessed 21 Apr. 2024.\n",
        "\n",
        "Shemshaki, Hamidreza, et al. “What is the source of low back pain?” Journal of Craniovertebral\n",
        "Junction and Spine, vol. 4, no. 1, Jan. 2013, p. 21,\n",
        "https://doi.org/10.4103/0974-8237.121620.\n",
        "\n",
        "Welch, N., et al. “The effects of a free-weight-based resistance training intervention on pain,\n",
        "squat biomechanics and MRI-defined lumbar fat infiltration and functional\n",
        "cross-sectional area in those with chronic low back.” BMJ Open Sport &amp; Exercise\n",
        "Medicine, vol. 1, no. 1, 9 Nov. 2015, https://doi.org/10.1136/bmjsem-2015-000050.\n"
      ],
      "metadata": {
        "id": "53Rfh8pBXEas"
      }
    }
  ]
}